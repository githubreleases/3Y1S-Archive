{
 "cells": [
  {
   "cell_type": "markdown",
   "metadata": {
    "colab_type": "text",
    "id": "view-in-github"
   },
   "source": [
    "<a href=\"https://colab.research.google.com/github/sourovw/3Y1S-Archive/blob/master/Lectures/CSE-309-Class-8.ipynb\" target=\"_parent\"><img src=\"https://colab.research.google.com/assets/colab-badge.svg\" alt=\"Open In Colab\"/></a>"
   ]
  },
  {
   "cell_type": "markdown",
   "metadata": {
    "id": "vJpHOoBr1FZA"
   },
   "source": [
    "# Multilevel"
   ]
  },
  {
   "cell_type": "code",
   "execution_count": 1,
   "metadata": {
    "id": "yzk2a0jYwwML"
   },
   "outputs": [],
   "source": [
    "class Mobile:\n",
    "    def __init__(self, IMEI):\n",
    "        self.IMEI = IMEI\n",
    "\n",
    "    def call(self, contact_number):\n",
    "        print(\"Calling . .\", contact_number)\n",
    "\n",
    "    def text(self, contact_number, mgs):\n",
    "        print(\"Sending message to\", contact_number, mgs)"
   ]
  },
  {
   "cell_type": "code",
   "execution_count": 2,
   "metadata": {
    "id": "vX0gFJeoy4JN"
   },
   "outputs": [],
   "source": [
    "class SamsungMobile(Mobile):\n",
    "    def set_logo(self):\n",
    "        print(\"Samsung logo is set.\")"
   ]
  },
  {
   "cell_type": "code",
   "execution_count": 3,
   "metadata": {
    "id": "iw2ZJKtjzOfa"
   },
   "outputs": [],
   "source": [
    "class SamsungA50(SamsungMobile):\n",
    "    def set_model(self):\n",
    "        print(\"Sansumg A50 is set.\")"
   ]
  },
  {
   "cell_type": "code",
   "execution_count": 4,
   "metadata": {
    "id": "lq5lJjC-zpZ0"
   },
   "outputs": [],
   "source": [
    "sourov_mobile = SamsungA50(\"0845546dsf5412\")"
   ]
  },
  {
   "cell_type": "code",
   "execution_count": 5,
   "metadata": {
    "id": "8NBXgKth0e6a"
   },
   "outputs": [],
   "source": [
    "sourov_mobile.cover = \"Cartoon Cover\""
   ]
  },
  {
   "cell_type": "code",
   "execution_count": 6,
   "metadata": {
    "id": "7-stz66v0MW8"
   },
   "outputs": [],
   "source": [
    "simran_mobile = SamsungA50(\"0845546dssf541\")"
   ]
  },
  {
   "cell_type": "markdown",
   "metadata": {
    "id": "oJVDaIDe1RHo"
   },
   "source": [
    "# Hierarchical"
   ]
  },
  {
   "cell_type": "code",
   "execution_count": 7,
   "metadata": {
    "id": "CI5i7x--1Eds"
   },
   "outputs": [],
   "source": [
    "class Animal:\n",
    "    def __init__(self, food_hibbit, n_legs, n_hand):\n",
    "        self.food_hibbit = food_hibbit\n",
    "        self.n_legs = n_legs\n",
    "        self.n_hand = n_hand\n",
    "\n",
    "    def eat(self, food):\n",
    "        print(\"Eating\", food)\n",
    "\n",
    "    def sleep(self):\n",
    "        print(\"Sleeping.\")\n",
    "\n",
    "    def run(self):\n",
    "        print(\"Running.\")"
   ]
  },
  {
   "cell_type": "code",
   "execution_count": 8,
   "metadata": {
    "id": "iJsL4mPj2k94"
   },
   "outputs": [],
   "source": [
    "class Tiger(Animal):\n",
    "    def hunt(self, pray):\n",
    "        print(\"Hunting\", pray)"
   ]
  },
  {
   "cell_type": "code",
   "execution_count": 9,
   "metadata": {
    "id": "r_ZYCrwW2z4H"
   },
   "outputs": [],
   "source": [
    "class Deer(Animal):\n",
    "    def horn_attack(self, animal):\n",
    "        print(\"Attacking\", animal, \"with horn.\")"
   ]
  },
  {
   "cell_type": "code",
   "execution_count": 10,
   "metadata": {
    "id": "tG0uan5W3I1Z"
   },
   "outputs": [],
   "source": [
    "class Dog(Animal):\n",
    "    def bark(self, something):\n",
    "        print(\"Barking at\", something)"
   ]
  },
  {
   "cell_type": "code",
   "execution_count": 11,
   "metadata": {
    "id": "nQxbaYzB3f_3"
   },
   "outputs": [],
   "source": [
    "Royal_Bengal_Tiger = Tiger(\"Carnivorus\", 4, 0)"
   ]
  },
  {
   "cell_type": "code",
   "execution_count": 12,
   "metadata": {
    "colab": {
     "base_uri": "https://localhost:8080/"
    },
    "id": "-CrSaM8T4ETV",
    "outputId": "2dd2dc26-8197-469d-94d8-b88db39ed06d"
   },
   "outputs": [
    {
     "name": "stdout",
     "output_type": "stream",
     "text": [
      "Hunting Deer\n"
     ]
    }
   ],
   "source": [
    "Royal_Bengal_Tiger.hunt(\"Deer\")"
   ]
  },
  {
   "cell_type": "code",
   "execution_count": 13,
   "metadata": {
    "id": "VC_6GvKx3tUO"
   },
   "outputs": [],
   "source": [
    "Rain_Deer = Deer(\"Harbivorus\", 4, 0)"
   ]
  },
  {
   "cell_type": "code",
   "execution_count": 14,
   "metadata": {
    "colab": {
     "base_uri": "https://localhost:8080/"
    },
    "id": "MdkRvfcu4LLF",
    "outputId": "138ce19e-3006-414a-e295-71bfd913f303"
   },
   "outputs": [
    {
     "name": "stdout",
     "output_type": "stream",
     "text": [
      "Attacking Tiger with horn.\n"
     ]
    }
   ],
   "source": [
    "Rain_Deer.horn_attack(\"Tiger\")"
   ]
  },
  {
   "cell_type": "code",
   "execution_count": 15,
   "metadata": {
    "id": "DWL2Ylzw34Z-"
   },
   "outputs": [],
   "source": [
    "Bull_Dog = Dog(\"omnivorous\", 4, 0)"
   ]
  },
  {
   "cell_type": "code",
   "execution_count": 16,
   "metadata": {
    "colab": {
     "base_uri": "https://localhost:8080/"
    },
    "id": "vbjxePDz4ZWW",
    "outputId": "432d13a4-6bb6-478b-9207-4beb42e0f121"
   },
   "outputs": [
    {
     "name": "stdout",
     "output_type": "stream",
     "text": [
      "Barking at Stranger!\n"
     ]
    }
   ],
   "source": [
    "Bull_Dog.bark(\"Stranger!\")"
   ]
  },
  {
   "cell_type": "markdown",
   "metadata": {
    "id": "OEauLd8e54E2"
   },
   "source": [
    "# Multiple"
   ]
  },
  {
   "cell_type": "code",
   "execution_count": 17,
   "metadata": {
    "id": "ogpF3txo58Zs"
   },
   "outputs": [],
   "source": [
    "class Tiger1:\n",
    "    def __init__(self, color):\n",
    "        self.color = color\n",
    "\n",
    "    def roar(self):\n",
    "        print(\"Roar like a tiger.\")\n",
    "\n",
    "    def hunt(self):\n",
    "        print(\"Hunting\")\n",
    "\n",
    "class Lion1:\n",
    "    def __init__(self, color):\n",
    "        self.color = color\n",
    "  \n",
    "    def roar(self):\n",
    "        print(\"Roar like a King.\")\n",
    "\n",
    "    def sleep(self):\n",
    "        print(\"Sleeping\")"
   ]
  },
  {
   "cell_type": "code",
   "execution_count": 18,
   "metadata": {
    "id": "HZj2n_1P6jaL"
   },
   "outputs": [],
   "source": [
    "class Liger1(Lion1, Tiger1):\n",
    "    def set_size(self):\n",
    "        print(\"Bigger than lion and tiger!\")"
   ]
  },
  {
   "cell_type": "code",
   "execution_count": 19,
   "metadata": {
    "id": "DT70bLRb601N"
   },
   "outputs": [],
   "source": [
    "sus_liger = Liger1(\"Lion's color\")"
   ]
  },
  {
   "cell_type": "code",
   "execution_count": 20,
   "metadata": {
    "colab": {
     "base_uri": "https://localhost:8080/"
    },
    "id": "UaAAXn9A7a90",
    "outputId": "14369574-6132-4a0d-d644-cc3e7f74a478"
   },
   "outputs": [
    {
     "name": "stdout",
     "output_type": "stream",
     "text": [
      "Roar like a King.\n"
     ]
    }
   ],
   "source": [
    "sus_liger.roar()"
   ]
  },
  {
   "cell_type": "code",
   "execution_count": 21,
   "metadata": {
    "colab": {
     "base_uri": "https://localhost:8080/",
     "height": 35
    },
    "id": "5bDbMn9k7FxG",
    "outputId": "95f78c9b-30e9-4755-8a4f-a3a005d4da96"
   },
   "outputs": [
    {
     "data": {
      "application/vnd.google.colaboratory.intrinsic+json": {
       "type": "string"
      },
      "text/plain": [
       "\"Lion's color\""
      ]
     },
     "execution_count": 21,
     "metadata": {
      "tags": []
     },
     "output_type": "execute_result"
    }
   ],
   "source": [
    "sus_liger.color"
   ]
  },
  {
   "cell_type": "code",
   "execution_count": 22,
   "metadata": {
    "id": "-wzuH_pI7uNc"
   },
   "outputs": [],
   "source": [
    "class Liger2(Tiger1, Lion1):\n",
    "    def set_size(self):\n",
    "        print(\"Bigger than lion and tiger!\")"
   ]
  },
  {
   "cell_type": "code",
   "execution_count": 23,
   "metadata": {
    "id": "IGvI02wU7xH6"
   },
   "outputs": [],
   "source": [
    "kas_liger = Liger2(\"Lion's color\")"
   ]
  },
  {
   "cell_type": "code",
   "execution_count": 24,
   "metadata": {
    "colab": {
     "base_uri": "https://localhost:8080/"
    },
    "id": "akhL9JAe74lb",
    "outputId": "70060a87-9aec-484a-8526-0d3c7dfd5042"
   },
   "outputs": [
    {
     "name": "stdout",
     "output_type": "stream",
     "text": [
      "Roar like a tiger.\n"
     ]
    }
   ],
   "source": [
    "kas_liger.roar()"
   ]
  },
  {
   "cell_type": "code",
   "execution_count": 25,
   "metadata": {
    "id": "910MX4tB8x-r"
   },
   "outputs": [],
   "source": [
    "class Tiger2:\n",
    "    def __init__(self, color, stripe):\n",
    "        self.color = color\n",
    "        self.stripe = stripe\n",
    "  \n",
    "    def roar(self):\n",
    "        print(\"Roar like a tiger.\")\n",
    "\n",
    "    def hunt(self):\n",
    "        print(\"Hunting\")\n",
    "\n",
    "class Lion2:\n",
    "    def __init__(self, color, size, keshor):\n",
    "        self.color = color\n",
    "        self.size = size\n",
    "        self.keshor = keshor\n",
    "  \n",
    "    def roar(self):\n",
    "        print(\"Roar like a King.\")\n",
    "\n",
    "    def sleep(self):\n",
    "        print(\"Sleeping\")"
   ]
  },
  {
   "cell_type": "code",
   "execution_count": 26,
   "metadata": {
    "id": "yYqVInRM86LR"
   },
   "outputs": [],
   "source": [
    "class Liger3(Lion2, Tiger2):\n",
    "    def set_size(self):\n",
    "        print(\"Bigger than lion and tiger.\")"
   ]
  },
  {
   "cell_type": "code",
   "execution_count": 27,
   "metadata": {
    "id": "OKat1fwW9ZZ4"
   },
   "outputs": [],
   "source": [
    "class Liger4(Tiger2, Lion2):\n",
    "    def set_size(self):\n",
    "        print(\"Bigger than lion and tiger.\")"
   ]
  },
  {
   "cell_type": "code",
   "execution_count": 28,
   "metadata": {
    "id": "9Ca6ukQg9c4o"
   },
   "outputs": [],
   "source": [
    "l2 = Liger4(\"Red\", \"Stripe\")"
   ]
  }
 ],
 "metadata": {
  "colab": {
   "collapsed_sections": [],
   "include_colab_link": true,
   "name": "7.CSE-309-Class-8.ipynb",
   "provenance": []
  },
  "kernelspec": {
   "display_name": "Python 3",
   "language": "python",
   "name": "python3"
  },
  "language_info": {
   "codemirror_mode": {
    "name": "ipython",
    "version": 3
   },
   "file_extension": ".py",
   "mimetype": "text/x-python",
   "name": "python",
   "nbconvert_exporter": "python",
   "pygments_lexer": "ipython3",
   "version": "3.8.3"
  }
 },
 "nbformat": 4,
 "nbformat_minor": 1
}
