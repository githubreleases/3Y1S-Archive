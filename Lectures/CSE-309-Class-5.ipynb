{
 "cells": [
  {
   "cell_type": "markdown",
   "metadata": {
    "colab_type": "text",
    "id": "view-in-github"
   },
   "source": [
    "<a href=\"https://colab.research.google.com/github/sourovw/3Y1S-Archive/blob/master/Lectures/CSE-309-Class-5.ipynb\" target=\"_parent\"><img src=\"https://colab.research.google.com/assets/colab-badge.svg\" alt=\"Open In Colab\"/></a>"
   ]
  },
  {
   "cell_type": "markdown",
   "metadata": {
    "id": "e_WgyytwneXq"
   },
   "source": [
    "# Loop"
   ]
  },
  {
   "cell_type": "code",
   "execution_count": 1,
   "metadata": {
    "colab": {
     "base_uri": "https://localhost:8080/",
     "height": 35
    },
    "id": "tiUYzwygFr6S",
    "outputId": "9b29cb67-fb41-4789-f513-46bfa2163527"
   },
   "outputs": [
    {
     "data": {
      "application/vnd.google.colaboratory.intrinsic+json": {
       "type": "string"
      },
      "text/plain": [
       "'\\nfor(int i=0; i<10; i++) {\\n    System.out.println(i)\\n}\\n\\nint i = 0;\\n\\nwhile(i<10) {\\n    System.out.println(i);\\n    i++;\\n}\\n'"
      ]
     },
     "execution_count": 1,
     "metadata": {
      "tags": []
     },
     "output_type": "execute_result"
    }
   ],
   "source": [
    "'''\n",
    "for(int i=0; i<10; i++) {\n",
    "    System.out.println(i)\n",
    "}\n",
    "\n",
    "int i = 0;\n",
    "\n",
    "while(i<10) {\n",
    "    System.out.println(i);\n",
    "    i++;\n",
    "}\n",
    "'''"
   ]
  },
  {
   "cell_type": "code",
   "execution_count": 2,
   "metadata": {
    "colab": {
     "base_uri": "https://localhost:8080/"
    },
    "id": "fUxSB0kHpL4l",
    "outputId": "5764cd8a-1054-4fdb-d6ed-520eb0c10b3b"
   },
   "outputs": [
    {
     "name": "stdout",
     "output_type": "stream",
     "text": [
      "0\n",
      "1\n",
      "2\n",
      "3\n",
      "4\n",
      "5\n",
      "6\n",
      "7\n",
      "8\n",
      "9\n"
     ]
    }
   ],
   "source": [
    "i = 0\n",
    "\n",
    "while (i < 10):\n",
    "    print(i)\n",
    "    i = i + 1"
   ]
  },
  {
   "cell_type": "code",
   "execution_count": 3,
   "metadata": {
    "colab": {
     "base_uri": "https://localhost:8080/"
    },
    "id": "ESs6gFsEnT2L",
    "outputId": "5c8a8291-7e64-44f8-e01c-f09d7de64d2e"
   },
   "outputs": [
    {
     "name": "stdout",
     "output_type": "stream",
     "text": [
      "1 + 2 + 3 + 4 + 5 + 6 + 7 + 8 + 9 + 10 = 55\n"
     ]
    }
   ],
   "source": [
    "i = 1\n",
    "sum = 0\n",
    "\n",
    "while i < 11 :\n",
    "    if (i == 10):\n",
    "        print(i, end=' ')\n",
    "    else:\n",
    "        print(i, \"+\" , end=' ')\n",
    "    \n",
    "    sum = sum + i\n",
    "    i += 1\n",
    "\n",
    "print(\"=\", sum)"
   ]
  },
  {
   "cell_type": "code",
   "execution_count": 4,
   "metadata": {
    "colab": {
     "base_uri": "https://localhost:8080/"
    },
    "id": "lmSUHyNCsP41",
    "outputId": "29af8bc4-074e-47be-838a-996994272a11"
   },
   "outputs": [
    {
     "name": "stdout",
     "output_type": "stream",
     "text": [
      "Start: 2\n",
      "End: 9\n",
      "2 + 3 + 4 + 5 + 6 + 7 + 8 + 9 = 44\n"
     ]
    }
   ],
   "source": [
    "start = int(input(\"Start: \"))\n",
    "end_p = int(input(\"End: \"))\n",
    "\n",
    "sum = 0\n",
    "i = start\n",
    "\n",
    "while i < end_p + 1:\n",
    "    if (i == end_p):\n",
    "        print(i, end=' ')\n",
    "    else:\n",
    "        print(i, \"+\" , end=' ')\n",
    "    \n",
    "    sum = sum + i\n",
    "    i += 1\n",
    "\n",
    "print(\"=\", sum)"
   ]
  },
  {
   "cell_type": "code",
   "execution_count": 5,
   "metadata": {
    "colab": {
     "base_uri": "https://localhost:8080/"
    },
    "id": "lQ_-Skc3tZgI",
    "outputId": "90a7e99f-c7c7-481a-d811-42c961517325"
   },
   "outputs": [
    {
     "name": "stdout",
     "output_type": "stream",
     "text": [
      "Start: 1\n",
      "End: 10\n",
      "1 + 3 + 5 + 7 + 9 + 10 = 55\n"
     ]
    }
   ],
   "source": [
    "start = int(input(\"Start: \"))\n",
    "end_p = int(input(\"End: \"))\n",
    "\n",
    "sum = 0\n",
    "i = start\n",
    "\n",
    "while i<end_p + 1:\n",
    "    if i % 2 == 0:\n",
    "        if (i == end_p):\n",
    "            print(i, end=' ')\n",
    "    else:\n",
    "        print(i, \"+\" , end=' ')\n",
    "    \n",
    "    sum = sum + i\n",
    "    i += 1\n",
    "\n",
    "print(\"=\", sum)"
   ]
  },
  {
   "cell_type": "code",
   "execution_count": 6,
   "metadata": {
    "colab": {
     "base_uri": "https://localhost:8080/"
    },
    "id": "xajV3lOcu8cY",
    "outputId": "33b21dcc-af28-46b3-cac0-ab9189ede357"
   },
   "outputs": [
    {
     "name": "stdout",
     "output_type": "stream",
     "text": [
      "Start: 13\n",
      "End: 22\n",
      "13 + 15 + 17 + 19 + 21 + = 85\n"
     ]
    }
   ],
   "source": [
    "start = int(input(\"Start: \"))\n",
    "end_p = int(input(\"End: \"))\n",
    "\n",
    "sum = 0\n",
    "i = start\n",
    "\n",
    "while i < end_p + 1:\n",
    "    if (i == end_p):\n",
    "        print(i, end=' ')\n",
    "    else:\n",
    "        print(i, \"+\" , end=' ')\n",
    "\n",
    "    sum = sum + i\n",
    "    i += 2\n",
    "\n",
    "print(\"=\", sum)"
   ]
  },
  {
   "cell_type": "code",
   "execution_count": 7,
   "metadata": {
    "colab": {
     "base_uri": "https://localhost:8080/"
    },
    "id": "p_sGSgIjvVdv",
    "outputId": "48b7ae0f-bc36-473f-babb-feacbce1c6b6"
   },
   "outputs": [
    {
     "name": "stdout",
     "output_type": "stream",
     "text": [
      "Start: 90\n",
      "End: 100\n",
      "90 + 92 + 94 + 96 + 98 + 100 = 570\n"
     ]
    }
   ],
   "source": [
    "start = int(input(\"Start: \"))\n",
    "end_p = int(input(\"End: \"))\n",
    "\n",
    "if start % 2 == 1:\n",
    "    start = start + 1\n",
    "\n",
    "if end_p % 2 == 1:\n",
    "    end_p = end_p - 1\n",
    "\n",
    "sum = 0\n",
    "i = start\n",
    "\n",
    "while i < end_p + 1:\n",
    "    if (i == end_p):\n",
    "        print(i, end=' ')\n",
    "    else:\n",
    "        print(i, \"+\" , end=' ')\n",
    "\n",
    "    sum = sum + i\n",
    "    i += 2\n",
    "\n",
    "print(\"=\", sum)"
   ]
  },
  {
   "cell_type": "markdown",
   "metadata": {
    "id": "K4CFNh4GwXak"
   },
   "source": [
    "# Range"
   ]
  },
  {
   "cell_type": "code",
   "execution_count": 8,
   "metadata": {
    "colab": {
     "base_uri": "https://localhost:8080/",
     "height": 35
    },
    "id": "CKAFIGynIdrF",
    "outputId": "c7e3abc1-b767-4dcc-dbcd-9ab03666e295"
   },
   "outputs": [
    {
     "data": {
      "application/vnd.google.colaboratory.intrinsic+json": {
       "type": "string"
      },
      "text/plain": [
       "'\\nfor(int i=0; i<10; i++) {\\n    System.out.println(i)\\n}\\n'"
      ]
     },
     "execution_count": 8,
     "metadata": {
      "tags": []
     },
     "output_type": "execute_result"
    }
   ],
   "source": [
    "'''\n",
    "for(int i=0; i<10; i++) {\n",
    "    System.out.println(i)\n",
    "}\n",
    "'''"
   ]
  },
  {
   "cell_type": "code",
   "execution_count": 9,
   "metadata": {
    "colab": {
     "base_uri": "https://localhost:8080/"
    },
    "id": "X3Ujostfyy8D",
    "outputId": "91a1d9ea-89a9-4739-efcb-41203999885d"
   },
   "outputs": [
    {
     "data": {
      "text/plain": [
       "[0, 1, 2, 3, 4, 5, 6, 7, 8, 9]"
      ]
     },
     "execution_count": 9,
     "metadata": {
      "tags": []
     },
     "output_type": "execute_result"
    }
   ],
   "source": [
    "l = list( range(0, 10, 1) )\n",
    "l"
   ]
  },
  {
   "cell_type": "code",
   "execution_count": 10,
   "metadata": {
    "colab": {
     "base_uri": "https://localhost:8080/"
    },
    "id": "c8WpaJvdzArg",
    "outputId": "fc3d9e3e-dec8-40da-9dcc-39804412e770"
   },
   "outputs": [
    {
     "data": {
      "text/plain": [
       "[0, 1, 2, 3, 4, 5, 6, 7, 8, 9]"
      ]
     },
     "execution_count": 10,
     "metadata": {
      "tags": []
     },
     "output_type": "execute_result"
    }
   ],
   "source": [
    "l = list( range(10) )\n",
    "l "
   ]
  },
  {
   "cell_type": "code",
   "execution_count": 11,
   "metadata": {
    "colab": {
     "base_uri": "https://localhost:8080/"
    },
    "id": "wNF7sbi1zJKh",
    "outputId": "82a79edd-c2f0-40c8-943b-29c520fc7151"
   },
   "outputs": [
    {
     "data": {
      "text/plain": [
       "[5, 6, 7, 8, 9]"
      ]
     },
     "execution_count": 11,
     "metadata": {
      "tags": []
     },
     "output_type": "execute_result"
    }
   ],
   "source": [
    "l = list( range(5, 10) )\n",
    "l "
   ]
  },
  {
   "cell_type": "code",
   "execution_count": 12,
   "metadata": {
    "colab": {
     "base_uri": "https://localhost:8080/"
    },
    "id": "SpBnHApDzMkZ",
    "outputId": "718f9a4a-373f-498e-eb4e-b9c10dda9a54"
   },
   "outputs": [
    {
     "data": {
      "text/plain": [
       "[5, 7, 9]"
      ]
     },
     "execution_count": 12,
     "metadata": {
      "tags": []
     },
     "output_type": "execute_result"
    }
   ],
   "source": [
    "l = list( range(5, 10, 2) )\n",
    "l "
   ]
  },
  {
   "cell_type": "markdown",
   "metadata": {
    "id": "y7mYNNG9zT05"
   },
   "source": [
    "# For"
   ]
  },
  {
   "cell_type": "code",
   "execution_count": 13,
   "metadata": {
    "colab": {
     "base_uri": "https://localhost:8080/"
    },
    "id": "1m4oHmSZzTNA",
    "outputId": "193166da-1a44-4aae-9b2b-3d5744e8bbfa"
   },
   "outputs": [
    {
     "name": "stdout",
     "output_type": "stream",
     "text": [
      "0\n",
      "1\n",
      "2\n",
      "3\n",
      "4\n",
      "5\n",
      "6\n",
      "7\n",
      "8\n",
      "9\n"
     ]
    }
   ],
   "source": [
    "for i in range(10):\n",
    "    print(i)"
   ]
  },
  {
   "cell_type": "code",
   "execution_count": 14,
   "metadata": {
    "colab": {
     "base_uri": "https://localhost:8080/"
    },
    "id": "R14oi-BIzji6",
    "outputId": "9873f7e6-b16d-4544-bcb2-62693fb5be67"
   },
   "outputs": [
    {
     "name": "stdout",
     "output_type": "stream",
     "text": [
      "10\n",
      "2\n",
      "A\n",
      "B\n",
      "1010\n"
     ]
    }
   ],
   "source": [
    "l = [10, 2, \"A\", \"B\", 1010]\n",
    "\n",
    "for i in l:\n",
    "    print(i)"
   ]
  },
  {
   "cell_type": "code",
   "execution_count": 15,
   "metadata": {
    "colab": {
     "base_uri": "https://localhost:8080/"
    },
    "id": "mWpYpSn_zxv3",
    "outputId": "49081460-726f-47cd-b63e-b8529da7e80a"
   },
   "outputs": [
    {
     "name": "stdout",
     "output_type": "stream",
     "text": [
      "2\n",
      "A\n",
      "B\n"
     ]
    }
   ],
   "source": [
    "l = [10, 2, \"A\", \"B\", 1010]\n",
    "\n",
    "for i in range(1, 4):\n",
    "    print(l[i])"
   ]
  },
  {
   "cell_type": "code",
   "execution_count": 16,
   "metadata": {
    "id": "3xmgEWDC0br6"
   },
   "outputs": [],
   "source": [
    "l = l + [6]"
   ]
  },
  {
   "cell_type": "code",
   "execution_count": 17,
   "metadata": {
    "colab": {
     "base_uri": "https://localhost:8080/"
    },
    "id": "r5PE8eNc0mYX",
    "outputId": "b6e45247-da86-44f8-ebda-1aa601fa345f"
   },
   "outputs": [
    {
     "data": {
      "text/plain": [
       "[10, 2, 'A', 'B', 1010, 6]"
      ]
     },
     "execution_count": 17,
     "metadata": {
      "tags": []
     },
     "output_type": "execute_result"
    }
   ],
   "source": [
    "l"
   ]
  }
 ],
 "metadata": {
  "colab": {
   "collapsed_sections": [],
   "include_colab_link": true,
   "name": "5.CSE-309-Class-5.ipynb",
   "provenance": []
  },
  "kernelspec": {
   "display_name": "Python 3",
   "language": "python",
   "name": "python3"
  },
  "language_info": {
   "codemirror_mode": {
    "name": "ipython",
    "version": 3
   },
   "file_extension": ".py",
   "mimetype": "text/x-python",
   "name": "python",
   "nbconvert_exporter": "python",
   "pygments_lexer": "ipython3",
   "version": "3.8.3"
  }
 },
 "nbformat": 4,
 "nbformat_minor": 1
}
