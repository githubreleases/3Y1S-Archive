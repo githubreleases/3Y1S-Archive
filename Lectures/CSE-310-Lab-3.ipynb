{
 "cells": [
  {
   "cell_type": "markdown",
   "metadata": {
    "colab_type": "text",
    "id": "view-in-github"
   },
   "source": [
    "<a href=\"https://colab.research.google.com/github/sourovw/3Y1S-Codes/blob/master/Lectures/CSE-310-Lab-3.ipynb\" target=\"_parent\"><img src=\"https://colab.research.google.com/assets/colab-badge.svg\" alt=\"Open In Colab\"/></a>"
   ]
  },
  {
   "cell_type": "markdown",
   "metadata": {
    "id": "MLZq0ux5X3Vh"
   },
   "source": [
    "# Dictionary"
   ]
  },
  {
   "cell_type": "code",
   "execution_count": 1,
   "metadata": {
    "id": "-OYEBQ8tW4xa"
   },
   "outputs": [],
   "source": [
    "# organization -> 300 employee\n",
    "\n",
    "emp1 = {\n",
    "    \"name\" : \"Sourov\",\n",
    "    \"position\" : \"Soft Engineer\",\n",
    "    \"Salary\" : 10,\n",
    "    \"ID\" : 52\n",
    "}\n",
    "\n",
    "emp2 = {\n",
    "    \"name\" : \"Ashfi\",\n",
    "    \"position\" : \"CEO\",\n",
    "    \"Salary\" : 100,\n",
    "    \"ID\" : 520\n",
    "}\n",
    "\n",
    "emp3 = {\n",
    "    \"name\" : \"Rakin\",\n",
    "    \"position\" : \"Manager\",\n",
    "    \"Salary\" : 5,\n",
    "    \"ID\" : 5200\n",
    "}"
   ]
  },
  {
   "cell_type": "code",
   "execution_count": 2,
   "metadata": {
    "id": "aLiA9C9dY0E1"
   },
   "outputs": [],
   "source": [
    "l = [emp1, emp2, emp3]"
   ]
  },
  {
   "cell_type": "code",
   "execution_count": 3,
   "metadata": {
    "colab": {
     "base_uri": "https://localhost:8080/"
    },
    "id": "-1eVNRTPY4zj",
    "outputId": "a54d6809-b889-4abb-f40a-af62faf964a2"
   },
   "outputs": [
    {
     "data": {
      "text/plain": [
       "{'ID': 52, 'Salary': 10, 'name': 'Sourov', 'position': 'Soft Engineer'}"
      ]
     },
     "execution_count": 3,
     "metadata": {
      "tags": []
     },
     "output_type": "execute_result"
    }
   ],
   "source": [
    "l[0]"
   ]
  },
  {
   "cell_type": "code",
   "execution_count": 4,
   "metadata": {
    "colab": {
     "base_uri": "https://localhost:8080/"
    },
    "id": "iL8dRxdHZDs7",
    "outputId": "af25d091-b652-4945-96b2-85ff5c249ffd"
   },
   "outputs": [
    {
     "name": "stdout",
     "output_type": "stream",
     "text": [
      "{'name': 'Ashfi', 'position': 'CEO', 'Salary': 100, 'ID': 520}\n"
     ]
    }
   ],
   "source": [
    "# one solution\n",
    "\n",
    "for emp in l:\n",
    "    if emp[\"name\"] == \"Ashfi\":\n",
    "        print(emp)"
   ]
  },
  {
   "cell_type": "code",
   "execution_count": 5,
   "metadata": {
    "id": "-zF7komMZjPD"
   },
   "outputs": [],
   "source": [
    "# another solution (more effective but has a problem)\n",
    "\n",
    "all_emp = {\n",
    "    \"Joy\" : emp1,\n",
    "    \"Ashfi\" : emp2,\n",
    "    \"Rakin\" : emp3,\n",
    "}"
   ]
  },
  {
   "cell_type": "code",
   "execution_count": 6,
   "metadata": {
    "colab": {
     "base_uri": "https://localhost:8080/"
    },
    "id": "cJpx35Pk5zm2",
    "outputId": "162f2e1b-5b1c-4a5e-bae3-7a8bf18bcd28"
   },
   "outputs": [
    {
     "data": {
      "text/plain": [
       "{'ID': 5200, 'Salary': 5, 'name': 'Rakin', 'position': 'Manager'}"
      ]
     },
     "execution_count": 6,
     "metadata": {
      "tags": []
     },
     "output_type": "execute_result"
    }
   ],
   "source": [
    "all_emp[\"Rakin\"]"
   ]
  },
  {
   "cell_type": "code",
   "execution_count": 7,
   "metadata": {
    "id": "mFmKi2mFZ7RS"
   },
   "outputs": [],
   "source": [
    "# another solution (most effective)\n",
    "\n",
    "all_emp = {\n",
    "    52 : emp1,\n",
    "    520 : emp2,\n",
    "    5200 : emp3,\n",
    "}"
   ]
  },
  {
   "cell_type": "code",
   "execution_count": 8,
   "metadata": {
    "colab": {
     "base_uri": "https://localhost:8080/"
    },
    "id": "HqjeQhvm6TF4",
    "outputId": "19254363-f337-45f7-a679-7ae0f2b7cf90"
   },
   "outputs": [
    {
     "data": {
      "text/plain": [
       "{'ID': 52, 'Salary': 10, 'name': 'Sourov', 'position': 'Soft Engineer'}"
      ]
     },
     "execution_count": 8,
     "metadata": {
      "tags": []
     },
     "output_type": "execute_result"
    }
   ],
   "source": [
    "all_emp[52]"
   ]
  },
  {
   "cell_type": "code",
   "execution_count": 9,
   "metadata": {
    "id": "ZuaNlGGAa1Dp"
   },
   "outputs": [],
   "source": [
    "all_emp = {\n",
    "    52 : {\n",
    "        \"name\" : \"Joy\",\n",
    "        \"position\" : \"Soft Engineer\",\n",
    "        \"Salary\" : 10,\n",
    "        \"ID\" : 52\n",
    "    },\n",
    "\n",
    "    520 : {\n",
    "        \"name\" : \"Ashfi\",\n",
    "        \"position\" : \"CEO\",\n",
    "        \"Salary\" : 100,\n",
    "        \"ID\" : 520\n",
    "    },\n",
    "    \n",
    "    5200 : {\n",
    "        \"name\" : \"Rakin\",\n",
    "        \"position\" : \"Manager\",\n",
    "        \"Salary\" : 5,\n",
    "        \"ID\" : 5200\n",
    "    }\n",
    "}"
   ]
  },
  {
   "cell_type": "code",
   "execution_count": 10,
   "metadata": {
    "id": "Zo00JIZIbIwN"
   },
   "outputs": [],
   "source": [
    "all_emp = {\n",
    "    emp1[\"ID\"] : emp1,\n",
    "    emp2[\"ID\"] : emp2,\n",
    "    emp3[\"ID\"] : emp3,\n",
    "}"
   ]
  },
  {
   "cell_type": "code",
   "execution_count": 11,
   "metadata": {
    "colab": {
     "base_uri": "https://localhost:8080/"
    },
    "id": "JGFcZKuKbOSJ",
    "outputId": "617cef61-ea05-4375-be4c-4ce1c6ea2383"
   },
   "outputs": [
    {
     "data": {
      "text/plain": [
       "{'ID': 5200, 'Salary': 5, 'name': 'Rakin', 'position': 'Manager'}"
      ]
     },
     "execution_count": 11,
     "metadata": {
      "tags": []
     },
     "output_type": "execute_result"
    }
   ],
   "source": [
    "all_emp[5200]"
   ]
  },
  {
   "cell_type": "code",
   "execution_count": 12,
   "metadata": {
    "colab": {
     "base_uri": "https://localhost:8080/"
    },
    "id": "NeIaPCaebsEi",
    "outputId": "fa634489-4783-48f1-8aed-16f8e42c5e8c"
   },
   "outputs": [
    {
     "name": "stdout",
     "output_type": "stream",
     "text": [
      "{'name': 'Rakin', 'position': 'Manager', 'Salary': 5, 'ID': 5200}\n"
     ]
    }
   ],
   "source": [
    "print(all_emp[5200])"
   ]
  },
  {
   "cell_type": "code",
   "execution_count": 13,
   "metadata": {
    "colab": {
     "base_uri": "https://localhost:8080/"
    },
    "id": "SgdG0-hsb3zI",
    "outputId": "7227b5aa-2078-4fc1-8c2e-b6a03716aa9f"
   },
   "outputs": [
    {
     "name": "stdout",
     "output_type": "stream",
     "text": [
      "Rakin\n",
      "5\n"
     ]
    }
   ],
   "source": [
    "print(all_emp[5200][\"name\"])\n",
    "print(all_emp[5200][\"Salary\"])"
   ]
  }
 ],
 "metadata": {
  "colab": {
   "collapsed_sections": [],
   "include_colab_link": true,
   "name": "4.CSE-310-Lab-3.ipynb",
   "provenance": []
  },
  "kernelspec": {
   "display_name": "Python 3",
   "language": "python",
   "name": "python3"
  },
  "language_info": {
   "codemirror_mode": {
    "name": "ipython",
    "version": 3
   },
   "file_extension": ".py",
   "mimetype": "text/x-python",
   "name": "python",
   "nbconvert_exporter": "python",
   "pygments_lexer": "ipython3",
   "version": "3.8.3"
  }
 },
 "nbformat": 4,
 "nbformat_minor": 1
}
