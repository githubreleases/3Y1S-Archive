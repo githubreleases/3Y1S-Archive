{
  "nbformat": 4,
  "nbformat_minor": 0,
  "metadata": {
    "colab": {
      "name": "1.CSE-309-Class-2.ipynb",
      "provenance": [],
      "collapsed_sections": [],
      "include_colab_link": true
    },
    "kernelspec": {
      "display_name": "Python 3",
      "language": "python",
      "name": "python3"
    },
    "language_info": {
      "codemirror_mode": {
        "name": "ipython",
        "version": 3
      },
      "file_extension": ".py",
      "mimetype": "text/x-python",
      "name": "python",
      "nbconvert_exporter": "python",
      "pygments_lexer": "ipython3",
      "version": "3.8.3"
    }
  },
  "cells": [
    {
      "cell_type": "markdown",
      "metadata": {
        "id": "view-in-github",
        "colab_type": "text"
      },
      "source": [
        "<a href=\"https://colab.research.google.com/github/sourovw/3Y1S-Archive/blob/master/Lectures/CSE-309-Class-2.ipynb\" target=\"_parent\"><img src=\"https://colab.research.google.com/assets/colab-badge.svg\" alt=\"Open In Colab\"/></a>"
      ]
    },
    {
      "cell_type": "markdown",
      "metadata": {
        "id": "dWscLP2il7sl"
      },
      "source": [
        "# Introduction to Python Coding"
      ]
    },
    {
      "cell_type": "code",
      "metadata": {
        "colab": {
          "base_uri": "https://localhost:8080/"
        },
        "id": "SBVlzrKri87v",
        "outputId": "78d18f66-a8e3-4e42-c45c-d5d5992b0aa8"
      },
      "source": [
        "print(\"hello world\" )\n",
        "print(\"Welcome everyone\")"
      ],
      "execution_count": 1,
      "outputs": [
        {
          "output_type": "stream",
          "text": [
            "hello world\n",
            "Welcome everyone\n"
          ],
          "name": "stdout"
        }
      ]
    },
    {
      "cell_type": "markdown",
      "metadata": {
        "id": "b9fvmOzfmW1h"
      },
      "source": [
        "# Input"
      ]
    },
    {
      "cell_type": "code",
      "metadata": {
        "colab": {
          "base_uri": "https://localhost:8080/"
        },
        "id": "gbZ6DBytmZGh",
        "outputId": "69bf66ce-b681-48ff-b8ed-a71bc2129b8f"
      },
      "source": [
        "a = input()\n",
        "type(a)"
      ],
      "execution_count": 2,
      "outputs": [
        {
          "output_type": "stream",
          "text": [
            "hello\n"
          ],
          "name": "stdout"
        },
        {
          "output_type": "execute_result",
          "data": {
            "text/plain": [
              "str"
            ]
          },
          "metadata": {
            "tags": []
          },
          "execution_count": 2
        }
      ]
    },
    {
      "cell_type": "markdown",
      "metadata": {
        "id": "qnO3_nX8oEvA"
      },
      "source": [
        "# Variables and Data Type"
      ]
    },
    {
      "cell_type": "code",
      "metadata": {
        "colab": {
          "base_uri": "https://localhost:8080/"
        },
        "id": "WHq4D42WoG2Q",
        "outputId": "162dc6d0-a688-4638-ccf6-508bf56c5b01"
      },
      "source": [
        "var_1 = 10\n",
        "type(var_1)"
      ],
      "execution_count": 3,
      "outputs": [
        {
          "output_type": "execute_result",
          "data": {
            "text/plain": [
              "int"
            ]
          },
          "metadata": {
            "tags": []
          },
          "execution_count": 3
        }
      ]
    },
    {
      "cell_type": "code",
      "metadata": {
        "colab": {
          "base_uri": "https://localhost:8080/"
        },
        "id": "QigDbxkIofix",
        "outputId": "fd5da238-2882-4571-95c7-daca3f2e7b49"
      },
      "source": [
        "var_2 = 10.5\n",
        "type(var_2)"
      ],
      "execution_count": 4,
      "outputs": [
        {
          "output_type": "execute_result",
          "data": {
            "text/plain": [
              "float"
            ]
          },
          "metadata": {
            "tags": []
          },
          "execution_count": 4
        }
      ]
    },
    {
      "cell_type": "code",
      "metadata": {
        "colab": {
          "base_uri": "https://localhost:8080/"
        },
        "id": "4y7_UkZdolbo",
        "outputId": "b21fccd7-5c58-4363-f3f9-b1dfad79de62"
      },
      "source": [
        "var_3 = \"CSE309\"\n",
        "type(var_3)"
      ],
      "execution_count": 5,
      "outputs": [
        {
          "output_type": "execute_result",
          "data": {
            "text/plain": [
              "str"
            ]
          },
          "metadata": {
            "tags": []
          },
          "execution_count": 5
        }
      ]
    },
    {
      "cell_type": "code",
      "metadata": {
        "id": "JOHGivZZppuo"
      },
      "source": [
        "var4 = 50"
      ],
      "execution_count": 6,
      "outputs": []
    },
    {
      "cell_type": "code",
      "metadata": {
        "colab": {
          "base_uri": "https://localhost:8080/"
        },
        "id": "_0BT5gNDp5po",
        "outputId": "1f4f2ffe-38fb-4467-f73a-6b6f3ca96831"
      },
      "source": [
        "var4"
      ],
      "execution_count": 7,
      "outputs": [
        {
          "output_type": "execute_result",
          "data": {
            "text/plain": [
              "50"
            ]
          },
          "metadata": {
            "tags": []
          },
          "execution_count": 7
        }
      ]
    },
    {
      "cell_type": "code",
      "metadata": {
        "colab": {
          "base_uri": "https://localhost:8080/"
        },
        "id": "-b4teO02qCo2",
        "outputId": "a2017e5a-9b06-476c-e20b-5dce588974bf"
      },
      "source": [
        "10015054"
      ],
      "execution_count": 8,
      "outputs": [
        {
          "output_type": "execute_result",
          "data": {
            "text/plain": [
              "10015054"
            ]
          },
          "metadata": {
            "tags": []
          },
          "execution_count": 8
        }
      ]
    },
    {
      "cell_type": "markdown",
      "metadata": {
        "id": "dkBUWQIYqQCo"
      },
      "source": [
        "# Python as Interpreter"
      ]
    },
    {
      "cell_type": "code",
      "metadata": {
        "id": "K2OwQUN6qHoG"
      },
      "source": [
        "x = 10"
      ],
      "execution_count": 9,
      "outputs": []
    },
    {
      "cell_type": "code",
      "metadata": {
        "colab": {
          "base_uri": "https://localhost:8080/"
        },
        "id": "L7hE1elkqTEH",
        "outputId": "578b33dc-74b7-4de2-a13e-e8a8a23f0316"
      },
      "source": [
        "print(x)"
      ],
      "execution_count": 10,
      "outputs": [
        {
          "output_type": "stream",
          "text": [
            "10\n"
          ],
          "name": "stdout"
        }
      ]
    },
    {
      "cell_type": "code",
      "metadata": {
        "id": "ELgYDPGHqTLm"
      },
      "source": [
        "a = 50"
      ],
      "execution_count": 11,
      "outputs": []
    },
    {
      "cell_type": "code",
      "metadata": {
        "id": "MF6vjbNlqTS3"
      },
      "source": [
        "a = 60"
      ],
      "execution_count": 12,
      "outputs": []
    },
    {
      "cell_type": "code",
      "metadata": {
        "colab": {
          "base_uri": "https://localhost:8080/"
        },
        "id": "VXu6oL4tqxOp",
        "outputId": "5b4021c7-dd75-40e0-fc55-62a23db8bb07"
      },
      "source": [
        "print(a)"
      ],
      "execution_count": 13,
      "outputs": [
        {
          "output_type": "stream",
          "text": [
            "60\n"
          ],
          "name": "stdout"
        }
      ]
    },
    {
      "cell_type": "code",
      "metadata": {
        "id": "NwcyEjRGqy4X"
      },
      "source": [
        "a = 70"
      ],
      "execution_count": 14,
      "outputs": []
    },
    {
      "cell_type": "code",
      "metadata": {
        "colab": {
          "base_uri": "https://localhost:8080/"
        },
        "id": "B82VKimErP9o",
        "outputId": "d32bcf05-e325-4472-b59c-a639b0e53187"
      },
      "source": [
        "a = 50\n",
        "a = 70\n",
        "a = 60\n",
        "print(a)"
      ],
      "execution_count": 15,
      "outputs": [
        {
          "output_type": "stream",
          "text": [
            "60\n"
          ],
          "name": "stdout"
        }
      ]
    },
    {
      "cell_type": "markdown",
      "metadata": {
        "id": "FMnx-3msrthK"
      },
      "source": [
        "# Simple Code"
      ]
    },
    {
      "cell_type": "code",
      "metadata": {
        "colab": {
          "base_uri": "https://localhost:8080/"
        },
        "id": "_SFfrzB7rs_1",
        "outputId": "a6198f68-db27-413d-aa70-d1915fa0ba01"
      },
      "source": [
        "# Take two interger inputs and add them. (wrong example)\n",
        "\n",
        "a = input()\n",
        "b = input()\n",
        "sum = a + b\n",
        "print(sum)"
      ],
      "execution_count": 16,
      "outputs": [
        {
          "output_type": "stream",
          "text": [
            "10\n",
            "20\n",
            "1020\n"
          ],
          "name": "stdout"
        }
      ]
    },
    {
      "cell_type": "code",
      "metadata": {
        "colab": {
          "base_uri": "https://localhost:8080/"
        },
        "id": "xluokGMisaQY",
        "outputId": "5815dcbe-499d-4174-dc32-aeb9f7aead28"
      },
      "source": [
        "# Take two interger inputs and add them. (correct example)\n",
        "\n",
        "a = int( input() )\n",
        "b = int( input() )\n",
        "sum = a + b\n",
        "print(sum)"
      ],
      "execution_count": 17,
      "outputs": [
        {
          "output_type": "stream",
          "text": [
            "10\n",
            "20\n",
            "30\n"
          ],
          "name": "stdout"
        }
      ]
    },
    {
      "cell_type": "code",
      "metadata": {
        "colab": {
          "base_uri": "https://localhost:8080/"
        },
        "id": "Zwx4aokusu2n",
        "outputId": "4b05177d-c14a-4fb3-ce7c-28d978eae95b"
      },
      "source": [
        "# Take two interger inputs and add them. (correct example)\n",
        "\n",
        "print(\"Input 1: \")\n",
        "a = int( input() )\n",
        "\n",
        "print(\"Input 2: \")\n",
        "b = int( input() )\n",
        "\n",
        "sum = a + b\n",
        "\n",
        "print(\"Output: \")\n",
        "print(sum)"
      ],
      "execution_count": 18,
      "outputs": [
        {
          "output_type": "stream",
          "text": [
            "Input 1: \n",
            "5\n",
            "Input 2: \n",
            "6\n",
            "Output: \n",
            "11\n"
          ],
          "name": "stdout"
        }
      ]
    },
    {
      "cell_type": "code",
      "metadata": {
        "colab": {
          "base_uri": "https://localhost:8080/"
        },
        "id": "P6RQtAgIs6tl",
        "outputId": "667a7b37-db89-4caf-b85c-d4729bb6307f"
      },
      "source": [
        "# Take two interger inputs and add them. (correct example)\n",
        "\n",
        "a = int( input(\"Input 1: \") )\n",
        "b = int( input(\"Input 2: \") )\n",
        "sum = a + b\n",
        "print(\"Output: \", sum)"
      ],
      "execution_count": 19,
      "outputs": [
        {
          "output_type": "stream",
          "text": [
            "Input 1: 10\n",
            "Input 2: 20\n",
            "Output:  30\n"
          ],
          "name": "stdout"
        }
      ]
    },
    {
      "cell_type": "code",
      "metadata": {
        "colab": {
          "base_uri": "https://localhost:8080/"
        },
        "id": "Vax2YsGdtKYG",
        "outputId": "d0eaf285-9fc0-4539-8196-d366a697fbbb"
      },
      "source": [
        "# Square\n",
        "\n",
        "a = int( input(\"Input 1: \") )\n",
        "square = a**2\n",
        "print('square: ', square)"
      ],
      "execution_count": 20,
      "outputs": [
        {
          "output_type": "stream",
          "text": [
            "Input 1: 10\n",
            "square:  100\n"
          ],
          "name": "stdout"
        }
      ]
    },
    {
      "cell_type": "markdown",
      "metadata": {
        "id": "AU2alpFevQ0-"
      },
      "source": [
        "# Python Calulator"
      ]
    },
    {
      "cell_type": "code",
      "metadata": {
        "colab": {
          "base_uri": "https://localhost:8080/"
        },
        "id": "aHOaDLF0vThO",
        "outputId": "83f5cef2-91ae-491b-b72f-04032a68f2a0"
      },
      "source": [
        "5 + 5"
      ],
      "execution_count": 21,
      "outputs": [
        {
          "output_type": "execute_result",
          "data": {
            "text/plain": [
              "10"
            ]
          },
          "metadata": {
            "tags": []
          },
          "execution_count": 21
        }
      ]
    },
    {
      "cell_type": "code",
      "metadata": {
        "colab": {
          "base_uri": "https://localhost:8080/"
        },
        "id": "Fenrcm-wvWKV",
        "outputId": "4b220434-023c-493f-c4c2-6da32f2a549e"
      },
      "source": [
        "25 + 5 - 2 * 10"
      ],
      "execution_count": 22,
      "outputs": [
        {
          "output_type": "execute_result",
          "data": {
            "text/plain": [
              "10"
            ]
          },
          "metadata": {
            "tags": []
          },
          "execution_count": 22
        }
      ]
    },
    {
      "cell_type": "code",
      "metadata": {
        "colab": {
          "base_uri": "https://localhost:8080/"
        },
        "id": "6J9i8avYv5lx",
        "outputId": "2365b047-747a-4fa9-d328-c6b127987f7e"
      },
      "source": [
        "8 / 3"
      ],
      "execution_count": 23,
      "outputs": [
        {
          "output_type": "execute_result",
          "data": {
            "text/plain": [
              "2.6666666666666665"
            ]
          },
          "metadata": {
            "tags": []
          },
          "execution_count": 23
        }
      ]
    },
    {
      "cell_type": "code",
      "metadata": {
        "colab": {
          "base_uri": "https://localhost:8080/"
        },
        "id": "km5GEm7Kv9m-",
        "outputId": "67039fbd-323a-4bc7-f632-a002eb6dbf0e"
      },
      "source": [
        "8 // 3"
      ],
      "execution_count": 24,
      "outputs": [
        {
          "output_type": "execute_result",
          "data": {
            "text/plain": [
              "2"
            ]
          },
          "metadata": {
            "tags": []
          },
          "execution_count": 24
        }
      ]
    },
    {
      "cell_type": "code",
      "metadata": {
        "colab": {
          "base_uri": "https://localhost:8080/"
        },
        "id": "ijUDZTC2wAnV",
        "outputId": "90c33d47-9c4e-4aa7-aacb-6729af8a97fb"
      },
      "source": [
        "8 % 3 "
      ],
      "execution_count": 25,
      "outputs": [
        {
          "output_type": "execute_result",
          "data": {
            "text/plain": [
              "2"
            ]
          },
          "metadata": {
            "tags": []
          },
          "execution_count": 25
        }
      ]
    },
    {
      "cell_type": "code",
      "metadata": {
        "colab": {
          "base_uri": "https://localhost:8080/"
        },
        "id": "FiogAhnSwaZM",
        "outputId": "437e4d4d-6075-4ae3-d168-adaa3b988466"
      },
      "source": [
        "2 ** 4"
      ],
      "execution_count": 26,
      "outputs": [
        {
          "output_type": "execute_result",
          "data": {
            "text/plain": [
              "16"
            ]
          },
          "metadata": {
            "tags": []
          },
          "execution_count": 26
        }
      ]
    },
    {
      "cell_type": "code",
      "metadata": {
        "colab": {
          "base_uri": "https://localhost:8080/"
        },
        "id": "PiOJCWQwwv6q",
        "outputId": "004f7f00-391a-4d4f-b914-bde1fee2795b"
      },
      "source": [
        "_"
      ],
      "execution_count": 27,
      "outputs": [
        {
          "output_type": "execute_result",
          "data": {
            "text/plain": [
              "16"
            ]
          },
          "metadata": {
            "tags": []
          },
          "execution_count": 27
        }
      ]
    },
    {
      "cell_type": "code",
      "metadata": {
        "colab": {
          "base_uri": "https://localhost:8080/"
        },
        "id": "a0bN9bqSw5z8",
        "outputId": "84722b9e-1ba7-4151-ab4a-0553ac5892ba"
      },
      "source": [
        "a = 50\n",
        "b = 40\n",
        "a * b"
      ],
      "execution_count": 28,
      "outputs": [
        {
          "output_type": "execute_result",
          "data": {
            "text/plain": [
              "2000"
            ]
          },
          "metadata": {
            "tags": []
          },
          "execution_count": 28
        }
      ]
    },
    {
      "cell_type": "code",
      "metadata": {
        "colab": {
          "base_uri": "https://localhost:8080/"
        },
        "id": "jeg56G5tw-RD",
        "outputId": "7c0db202-064c-46f8-8bf1-334399ca2e72"
      },
      "source": [
        "_"
      ],
      "execution_count": 29,
      "outputs": [
        {
          "output_type": "execute_result",
          "data": {
            "text/plain": [
              "2000"
            ]
          },
          "metadata": {
            "tags": []
          },
          "execution_count": 29
        }
      ]
    },
    {
      "cell_type": "code",
      "metadata": {
        "colab": {
          "base_uri": "https://localhost:8080/"
        },
        "id": "eGRN78fdxF0G",
        "outputId": "e9b38bb0-0a6e-4c14-9f22-19f1b5faa94f"
      },
      "source": [
        "round(10.54658461, 2)"
      ],
      "execution_count": 30,
      "outputs": [
        {
          "output_type": "execute_result",
          "data": {
            "text/plain": [
              "10.55"
            ]
          },
          "metadata": {
            "tags": []
          },
          "execution_count": 30
        }
      ]
    },
    {
      "cell_type": "code",
      "metadata": {
        "colab": {
          "base_uri": "https://localhost:8080/"
        },
        "id": "CLH0au5JxokK",
        "outputId": "475c4350-d8e3-42e9-b6e8-d89e4530487f"
      },
      "source": [
        "round(10.54658461)"
      ],
      "execution_count": 31,
      "outputs": [
        {
          "output_type": "execute_result",
          "data": {
            "text/plain": [
              "11"
            ]
          },
          "metadata": {
            "tags": []
          },
          "execution_count": 31
        }
      ]
    },
    {
      "cell_type": "markdown",
      "metadata": {
        "id": "dV37s1V6x4FS"
      },
      "source": [
        "# String"
      ]
    },
    {
      "cell_type": "code",
      "metadata": {
        "id": "HtvIOKmdx316"
      },
      "source": [
        "s1 = \"This\"\n",
        "s2 = 'is a cat'"
      ],
      "execution_count": 32,
      "outputs": []
    },
    {
      "cell_type": "code",
      "metadata": {
        "colab": {
          "base_uri": "https://localhost:8080/"
        },
        "id": "WxDbIh-vyAel",
        "outputId": "ac84064d-1fb9-4e94-b92e-1bac37ec66bd"
      },
      "source": [
        "print(s1, s2)"
      ],
      "execution_count": 33,
      "outputs": [
        {
          "output_type": "stream",
          "text": [
            "This is a cat\n"
          ],
          "name": "stdout"
        }
      ]
    },
    {
      "cell_type": "code",
      "metadata": {
        "colab": {
          "base_uri": "https://localhost:8080/"
        },
        "id": "hnkrqrCEyIsF",
        "outputId": "e3399d33-07de-48f0-eaa9-cc40219a186d"
      },
      "source": [
        "s3 = s1 + \" \" + s2\n",
        "print(s3)"
      ],
      "execution_count": 34,
      "outputs": [
        {
          "output_type": "stream",
          "text": [
            "This is a cat\n"
          ],
          "name": "stdout"
        }
      ]
    },
    {
      "cell_type": "code",
      "metadata": {
        "colab": {
          "base_uri": "https://localhost:8080/"
        },
        "id": "ixzcbGf5ylLV",
        "outputId": "0ebd9243-b12e-4d13-98cb-556e997be4f4"
      },
      "source": [
        "kingCommand = 'The king said \"Bring the man\"'\n",
        "print(kingCommand, type(kingCommand))"
      ],
      "execution_count": 35,
      "outputs": [
        {
          "output_type": "stream",
          "text": [
            "The king said \"Bring the man\" <class 'str'>\n"
          ],
          "name": "stdout"
        }
      ]
    },
    {
      "cell_type": "code",
      "metadata": {
        "colab": {
          "base_uri": "https://localhost:8080/"
        },
        "id": "aGTnLoIbzBj1",
        "outputId": "89dd2765-6ff1-4441-d96f-cf4a5095c7c3"
      },
      "source": [
        "kingCommand2 = \"The king said \\\"Let the man go\\\"\"\n",
        "print(kingCommand2, type(kingCommand2))"
      ],
      "execution_count": 36,
      "outputs": [
        {
          "output_type": "stream",
          "text": [
            "The king said \"Let the man go\" <class 'str'>\n"
          ],
          "name": "stdout"
        }
      ]
    },
    {
      "cell_type": "code",
      "metadata": {
        "colab": {
          "base_uri": "https://localhost:8080/",
          "height": 35
        },
        "id": "68mz8Z5sz-zm",
        "outputId": "2ced5b6b-e563-43b1-d500-e1a09c03c69b"
      },
      "source": [
        "\"this is \" + \"a cat\""
      ],
      "execution_count": 37,
      "outputs": [
        {
          "output_type": "execute_result",
          "data": {
            "application/vnd.google.colaboratory.intrinsic+json": {
              "type": "string"
            },
            "text/plain": [
              "'this is a cat'"
            ]
          },
          "metadata": {
            "tags": []
          },
          "execution_count": 37
        }
      ]
    },
    {
      "cell_type": "code",
      "metadata": {
        "colab": {
          "base_uri": "https://localhost:8080/",
          "height": 35
        },
        "id": "eqlhL8c90JIQ",
        "outputId": "d3f33d1c-7b2c-4436-950f-b4897e2aa124"
      },
      "source": [
        "\"String\" * 3"
      ],
      "execution_count": 38,
      "outputs": [
        {
          "output_type": "execute_result",
          "data": {
            "application/vnd.google.colaboratory.intrinsic+json": {
              "type": "string"
            },
            "text/plain": [
              "'StringStringString'"
            ]
          },
          "metadata": {
            "tags": []
          },
          "execution_count": 38
        }
      ]
    },
    {
      "cell_type": "code",
      "metadata": {
        "colab": {
          "base_uri": "https://localhost:8080/",
          "height": 35
        },
        "id": "IIVY4QtA0r0M",
        "outputId": "d36398e9-d9d3-4ca8-ab5d-bcd4e7fcdbfe"
      },
      "source": [
        "x = \"Python is the coolest language!\"\n",
        "x[-3]"
      ],
      "execution_count": 39,
      "outputs": [
        {
          "output_type": "execute_result",
          "data": {
            "application/vnd.google.colaboratory.intrinsic+json": {
              "type": "string"
            },
            "text/plain": [
              "'g'"
            ]
          },
          "metadata": {
            "tags": []
          },
          "execution_count": 39
        }
      ]
    }
  ]
}