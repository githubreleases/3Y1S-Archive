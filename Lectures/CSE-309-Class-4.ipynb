{
  "nbformat": 4,
  "nbformat_minor": 0,
  "metadata": {
    "colab": {
      "name": "3.CSE-309-Class-4.ipynb",
      "provenance": [],
      "collapsed_sections": [],
      "include_colab_link": true
    },
    "kernelspec": {
      "display_name": "Python 3",
      "language": "python",
      "name": "python3"
    },
    "language_info": {
      "codemirror_mode": {
        "name": "ipython",
        "version": 3
      },
      "file_extension": ".py",
      "mimetype": "text/x-python",
      "name": "python",
      "nbconvert_exporter": "python",
      "pygments_lexer": "ipython3",
      "version": "3.8.3"
    }
  },
  "cells": [
    {
      "cell_type": "markdown",
      "metadata": {
        "id": "view-in-github",
        "colab_type": "text"
      },
      "source": [
        "<a href=\"https://colab.research.google.com/github/sourovw/3Y1S-Archive/blob/master/Lectures/CSE-309-Class-4.ipynb\" target=\"_parent\"><img src=\"https://colab.research.google.com/assets/colab-badge.svg\" alt=\"Open In Colab\"/></a>"
      ]
    },
    {
      "cell_type": "markdown",
      "metadata": {
        "id": "atnI_3-Opdjd"
      },
      "source": [
        "# Indexing and Slicing"
      ]
    },
    {
      "cell_type": "code",
      "metadata": {
        "id": "SVWF__VIm7xT"
      },
      "source": [
        "L = [1, 10, 30, 4, -5]"
      ],
      "execution_count": 1,
      "outputs": []
    },
    {
      "cell_type": "code",
      "metadata": {
        "colab": {
          "base_uri": "https://localhost:8080/"
        },
        "id": "8lRade4HnUon",
        "outputId": "f50cd563-830c-475d-dffe-bbd55b127828"
      },
      "source": [
        "L[2 : 4 : 2]"
      ],
      "execution_count": 2,
      "outputs": [
        {
          "output_type": "execute_result",
          "data": {
            "text/plain": [
              "[30]"
            ]
          },
          "metadata": {
            "tags": []
          },
          "execution_count": 2
        }
      ]
    },
    {
      "cell_type": "code",
      "metadata": {
        "colab": {
          "base_uri": "https://localhost:8080/",
          "height": 35
        },
        "id": "_Ku4HSWq4i_h",
        "outputId": "7ca43c02-75e6-4846-c8d7-3181a9b62c3e"
      },
      "source": [
        "'''\n",
        "for (int i=2; i<4; i+=2) {\n",
        "    print(L[i])\n",
        "}\n",
        "'''"
      ],
      "execution_count": 3,
      "outputs": [
        {
          "output_type": "execute_result",
          "data": {
            "application/vnd.google.colaboratory.intrinsic+json": {
              "type": "string"
            },
            "text/plain": [
              "'\\nfor (int i=2; i<4; i+=2) {\\n    print(L[i])\\n}\\n'"
            ]
          },
          "metadata": {
            "tags": []
          },
          "execution_count": 3
        }
      ]
    },
    {
      "cell_type": "code",
      "metadata": {
        "colab": {
          "base_uri": "https://localhost:8080/"
        },
        "id": "jkMMvt1FoN5S",
        "outputId": "8ac8a8f0-ace1-48ec-dbbd-779ffee9cf8f"
      },
      "source": [
        "L[0 : 10 : 1]"
      ],
      "execution_count": 4,
      "outputs": [
        {
          "output_type": "execute_result",
          "data": {
            "text/plain": [
              "[1, 10, 30, 4, -5]"
            ]
          },
          "metadata": {
            "tags": []
          },
          "execution_count": 4
        }
      ]
    },
    {
      "cell_type": "code",
      "metadata": {
        "colab": {
          "base_uri": "https://localhost:8080/"
        },
        "id": "7m1HFtFI4u0-",
        "outputId": "47334a3a-b039-4317-a36c-d3382216c153"
      },
      "source": [
        "L[0 : 100 : 1]"
      ],
      "execution_count": 5,
      "outputs": [
        {
          "output_type": "execute_result",
          "data": {
            "text/plain": [
              "[1, 10, 30, 4, -5]"
            ]
          },
          "metadata": {
            "tags": []
          },
          "execution_count": 5
        }
      ]
    },
    {
      "cell_type": "code",
      "metadata": {
        "colab": {
          "base_uri": "https://localhost:8080/"
        },
        "id": "JkGVRJZ8odEY",
        "outputId": "1b776f30-1e7e-46e3-cfa5-ce01f0d0f627"
      },
      "source": [
        "L[0 : len(L) : 1]"
      ],
      "execution_count": 6,
      "outputs": [
        {
          "output_type": "execute_result",
          "data": {
            "text/plain": [
              "[1, 10, 30, 4, -5]"
            ]
          },
          "metadata": {
            "tags": []
          },
          "execution_count": 6
        }
      ]
    },
    {
      "cell_type": "code",
      "metadata": {
        "colab": {
          "base_uri": "https://localhost:8080/"
        },
        "id": "H6AHfqYmof_B",
        "outputId": "47620d4a-80e5-40cb-928a-b453255d8ff6"
      },
      "source": [
        "L[10 : 300 : 1]"
      ],
      "execution_count": 7,
      "outputs": [
        {
          "output_type": "execute_result",
          "data": {
            "text/plain": [
              "[]"
            ]
          },
          "metadata": {
            "tags": []
          },
          "execution_count": 7
        }
      ]
    },
    {
      "cell_type": "code",
      "metadata": {
        "colab": {
          "base_uri": "https://localhost:8080/",
          "height": 35
        },
        "id": "gxuHYU7w46iF",
        "outputId": "fdc46c29-63c8-4f04-dcd0-1892aa2bacaf"
      },
      "source": [
        "'''\n",
        "for (int i=2; i<min(10, len(L)); i+=2){\n",
        "    print(L[i])\n",
        "}\n",
        "'''"
      ],
      "execution_count": 8,
      "outputs": [
        {
          "output_type": "execute_result",
          "data": {
            "application/vnd.google.colaboratory.intrinsic+json": {
              "type": "string"
            },
            "text/plain": [
              "'\\nfor (int i=2; i<min(10, len(L)); i+=2){\\n    print(L[i])\\n}\\n'"
            ]
          },
          "metadata": {
            "tags": []
          },
          "execution_count": 8
        }
      ]
    },
    {
      "cell_type": "markdown",
      "metadata": {
        "id": "e1amtnVbpkIR"
      },
      "source": [
        "# Conditional ( If-Else )"
      ]
    },
    {
      "cell_type": "code",
      "metadata": {
        "colab": {
          "base_uri": "https://localhost:8080/"
        },
        "id": "OFV1cwSbpqGv",
        "outputId": "4bfdd83b-f3bf-48ea-dc2e-4ac96eb1d024"
      },
      "source": [
        "x = int(input())\n",
        "\n",
        "if (x > 0):\n",
        "    print(\"Positive\")\n",
        "else:\n",
        "    print(\"Negative\")"
      ],
      "execution_count": 9,
      "outputs": [
        {
          "output_type": "stream",
          "text": [
            "-1\n",
            "Negative\n"
          ],
          "name": "stdout"
        }
      ]
    },
    {
      "cell_type": "code",
      "metadata": {
        "colab": {
          "base_uri": "https://localhost:8080/",
          "height": 52
        },
        "id": "vDkx2yQT5hQZ",
        "outputId": "317d54ca-a596-4387-8896-ec40f6e98520"
      },
      "source": [
        "'''\n",
        "if < statement - (True/False) > : \n",
        "  <statement>\n",
        "  <statement>\n",
        "  <statement>\n",
        "  <statement>\n",
        "  <statement>\n",
        "else:\n",
        "  <statement>\n",
        "  <statement>\n",
        "  <statement>\n",
        "<statement> (This statement is out of else)\n",
        "'''"
      ],
      "execution_count": 10,
      "outputs": [
        {
          "output_type": "execute_result",
          "data": {
            "application/vnd.google.colaboratory.intrinsic+json": {
              "type": "string"
            },
            "text/plain": [
              "'\\nif < statement - (True/False) > : \\n  <statement>\\n  <statement>\\n  <statement>\\n  <statement>\\n  <statement>\\nelse:\\n  <statement>\\n  <statement>\\n  <statement>\\n<statement> (This statement is out of else)\\n'"
            ]
          },
          "metadata": {
            "tags": []
          },
          "execution_count": 10
        }
      ]
    },
    {
      "cell_type": "code",
      "metadata": {
        "colab": {
          "base_uri": "https://localhost:8080/"
        },
        "id": "c5kMjmpZqtq_",
        "outputId": "aba6bc67-19b4-41b6-ad9d-4cf21581b7d7"
      },
      "source": [
        "x = int(input())\n",
        "\n",
        "if (x > 0):\n",
        "    print(\"Positive\")\n",
        "    print(\"Very Positive\")\n",
        "else:\n",
        "    print(\"Negative\")"
      ],
      "execution_count": 11,
      "outputs": [
        {
          "output_type": "stream",
          "text": [
            "10\n",
            "Positive\n",
            "Very Positive\n"
          ],
          "name": "stdout"
        }
      ]
    },
    {
      "cell_type": "code",
      "metadata": {
        "colab": {
          "base_uri": "https://localhost:8080/"
        },
        "id": "I1kjfyHLrYgP",
        "outputId": "534d9977-149c-4ffe-f655-1f30299b4735"
      },
      "source": [
        "x = int(input())\n",
        "\n",
        "if (x > 0):\n",
        "    print(\"Positive\")\n",
        "    print(\"Very Positive\")\n",
        "  \n",
        "print(\"Now this will work fine!\")"
      ],
      "execution_count": 12,
      "outputs": [
        {
          "output_type": "stream",
          "text": [
            "5\n",
            "Positive\n",
            "Very Positive\n",
            "Now this will work fine!\n"
          ],
          "name": "stdout"
        }
      ]
    },
    {
      "cell_type": "code",
      "metadata": {
        "colab": {
          "base_uri": "https://localhost:8080/"
        },
        "id": "2uZLly7XsCMl",
        "outputId": "9deba7fe-49b5-4784-bff5-c2aa6354b44b"
      },
      "source": [
        "type(10 > 0)"
      ],
      "execution_count": 13,
      "outputs": [
        {
          "output_type": "execute_result",
          "data": {
            "text/plain": [
              "bool"
            ]
          },
          "metadata": {
            "tags": []
          },
          "execution_count": 13
        }
      ]
    },
    {
      "cell_type": "code",
      "metadata": {
        "colab": {
          "base_uri": "https://localhost:8080/"
        },
        "id": "3Ft935twst7S",
        "outputId": "024f9594-6c96-4c1d-a464-8f744ca784cb"
      },
      "source": [
        "x = int(input())\n",
        "\n",
        "if (x == 10):\n",
        "    print(\"==\")\n",
        "elif (x > 10):\n",
        "    print(\">\")\n",
        "elif (x < 10):\n",
        "    print(\"<\")\n",
        "elif (x >= 10):\n",
        "    print(\">=\")\n",
        "elif (x <= 10):\n",
        "    print(\"<=\")\n",
        "elif (x != 10):\n",
        "    print(\" != \")\n",
        "else:\n",
        "    print(\"What??\")"
      ],
      "execution_count": 14,
      "outputs": [
        {
          "output_type": "stream",
          "text": [
            "9\n",
            "<\n"
          ],
          "name": "stdout"
        }
      ]
    },
    {
      "cell_type": "code",
      "metadata": {
        "colab": {
          "base_uri": "https://localhost:8080/"
        },
        "id": "s49KfbyxtDt9",
        "outputId": "21f238aa-bb62-4c91-80bd-c5e756673f2e"
      },
      "source": [
        "x = int(input())\n",
        "\n",
        "if (x == 10):\n",
        "    print(\"==\")\n",
        "if (x > 10):\n",
        "    print(\">\")\n",
        "if (x < 10):\n",
        "    print(\"<\")\n",
        "if (x >= 10):\n",
        "    print(\">=\")\n",
        "if (x <= 10):\n",
        "    print(\"<=\")\n",
        "if (x != 10):\n",
        "    print(\"!=\")\n",
        "else:\n",
        "    print(\"What??\")"
      ],
      "execution_count": 15,
      "outputs": [
        {
          "output_type": "stream",
          "text": [
            "11\n",
            ">\n",
            ">=\n",
            "!=\n"
          ],
          "name": "stdout"
        }
      ]
    },
    {
      "cell_type": "code",
      "metadata": {
        "colab": {
          "base_uri": "https://localhost:8080/"
        },
        "id": "RxImpWyTuYCd",
        "outputId": "84ad7395-d8f3-4686-c638-63a555b3d5cf"
      },
      "source": [
        "x = int(input())\n",
        "\n",
        "if (x == 10):\n",
        "    print(\"==\")\n",
        "if (x > 10):\n",
        "    print(\">\")\n",
        "if (x < 10):\n",
        "    print(\"<\")\n",
        "if (x >= 10):\n",
        "    print(\">=\")\n",
        "if (x <= 10):\n",
        "    print(\"<=\")\n",
        "if (x != 10):\n",
        "    print(\"!=\")\n",
        "else:\n",
        "    print(\"What??\")"
      ],
      "execution_count": 16,
      "outputs": [
        {
          "output_type": "stream",
          "text": [
            "5\n",
            "<\n",
            "<=\n",
            "!=\n"
          ],
          "name": "stdout"
        }
      ]
    },
    {
      "cell_type": "code",
      "metadata": {
        "colab": {
          "base_uri": "https://localhost:8080/"
        },
        "id": "TIu1hIe3vHuK",
        "outputId": "7c7bbac7-9f47-4812-f0a5-43fdc0ef53e9"
      },
      "source": [
        "a = 200\n",
        "b = 1\n",
        "\n",
        "if b > a:\n",
        "    print(\"b is greater than a\")\n",
        "\n",
        "print(\"b is greater than a _ outside if\")"
      ],
      "execution_count": 17,
      "outputs": [
        {
          "output_type": "stream",
          "text": [
            "b is greater than a _ outside if\n"
          ],
          "name": "stdout"
        }
      ]
    },
    {
      "cell_type": "markdown",
      "metadata": {
        "id": "kgpBsTeovcfc"
      },
      "source": [
        "# And / Or"
      ]
    },
    {
      "cell_type": "code",
      "metadata": {
        "colab": {
          "base_uri": "https://localhost:8080/"
        },
        "id": "ugHI1HiovcDY",
        "outputId": "01af5d4a-a9c9-44b8-b099-64931130e33a"
      },
      "source": [
        "x = int(input())\n",
        "\n",
        "if x > 5 and x > 100:\n",
        "    print(\"1\")\n",
        "elif x > 10 and x > 20:\n",
        "    print(\"2\")\n",
        "if x > 1 or x > 30:\n",
        "    print(\"3\")\n",
        "else:\n",
        "    print(\"4\")"
      ],
      "execution_count": 18,
      "outputs": [
        {
          "output_type": "stream",
          "text": [
            "10\n",
            "3\n"
          ],
          "name": "stdout"
        }
      ]
    },
    {
      "cell_type": "code",
      "metadata": {
        "colab": {
          "base_uri": "https://localhost:8080/"
        },
        "id": "8sXPImaQwun4",
        "outputId": "c034b864-0994-4955-a6a1-5a76dd706869"
      },
      "source": [
        "x = int(input())\n",
        "\n",
        "if x > 5 and x > 100:\n",
        "    print(\"1\")\n",
        "elif x > 10 and x > 20:\n",
        "    print(\"2\")\n",
        "if x > 1 or x > 30:\n",
        "    print(\"3\")\n",
        "else:\n",
        "    print(\"4\")"
      ],
      "execution_count": 20,
      "outputs": [
        {
          "output_type": "stream",
          "text": [
            "7\n",
            "3\n"
          ],
          "name": "stdout"
        }
      ]
    },
    {
      "cell_type": "code",
      "metadata": {
        "colab": {
          "base_uri": "https://localhost:8080/"
        },
        "id": "QVtOT3pQyaNq",
        "outputId": "95638d11-0a52-41c3-f712-03917dc59c28"
      },
      "source": [
        "# max(a, b, c)\n",
        "\n",
        "a = int(input())\n",
        "b = int(input())\n",
        "c = int(input())\n",
        "\n",
        "if a > b and a > c:\n",
        "    print(a)\n",
        "elif b > a and b > c:\n",
        "    print(b)\n",
        "else:\n",
        "    print(c)"
      ],
      "execution_count": 21,
      "outputs": [
        {
          "output_type": "stream",
          "text": [
            "10\n",
            "30\n",
            "20\n",
            "30\n"
          ],
          "name": "stdout"
        }
      ]
    },
    {
      "cell_type": "markdown",
      "metadata": {
        "id": "9VbdFtYkxPCb"
      },
      "source": [
        "# Nested If"
      ]
    },
    {
      "cell_type": "code",
      "metadata": {
        "colab": {
          "base_uri": "https://localhost:8080/"
        },
        "id": "Pt0iL6g5xQej",
        "outputId": "a393f7ec-4fbb-4e98-bd61-59ae90a55cc8"
      },
      "source": [
        "# max(a, b, c)\n",
        "\n",
        "a = int(input())\n",
        "b = int(input())\n",
        "c = int(input())\n",
        "\n",
        "if a > b:\n",
        "    if a > c:\n",
        "        print(a)\n",
        "elif b > a:\n",
        "    if b > c:\n",
        "        print(b)\n",
        "else:\n",
        "    print(c)"
      ],
      "execution_count": 22,
      "outputs": [
        {
          "output_type": "stream",
          "text": [
            "7\n",
            "9\n",
            "0\n",
            "9\n"
          ],
          "name": "stdout"
        }
      ]
    },
    {
      "cell_type": "code",
      "metadata": {
        "colab": {
          "base_uri": "https://localhost:8080/"
        },
        "id": "4S55lAuOyCkn",
        "outputId": "301e30e6-745e-486a-92fd-ebb08abf9454"
      },
      "source": [
        "# max(a, b, c)\n",
        "\n",
        "a = int(input())\n",
        "b = int(input())\n",
        "c = int(input())\n",
        "\n",
        "if a > b:\n",
        "    if a > c:\n",
        "        print(a)\n",
        "    else:\n",
        "        print(c)\n",
        "else: # b >= a\n",
        "    if b > c:\n",
        "        print(b)"
      ],
      "execution_count": 23,
      "outputs": [
        {
          "output_type": "stream",
          "text": [
            "11\n",
            "53\n",
            "10\n",
            "53\n"
          ],
          "name": "stdout"
        }
      ]
    },
    {
      "cell_type": "markdown",
      "metadata": {
        "id": "hs-M9GffzExr"
      },
      "source": [
        "# Pass Statement ( for skipping )"
      ]
    },
    {
      "cell_type": "code",
      "metadata": {
        "id": "r8sH3wpQzIgk"
      },
      "source": [
        "if 10 > 30:\n",
        "    pass"
      ],
      "execution_count": 24,
      "outputs": []
    },
    {
      "cell_type": "markdown",
      "metadata": {
        "id": "6IeAnCa30pQk"
      },
      "source": [
        "# List"
      ]
    },
    {
      "cell_type": "code",
      "metadata": {
        "colab": {
          "base_uri": "https://localhost:8080/"
        },
        "id": "lKnhM_CB0qoK",
        "outputId": "918c109c-3d29-4c46-98ea-4d0567e10670"
      },
      "source": [
        "L = [ 1, \"string\", 10.5, [2, 3, 4] ]\n",
        "L"
      ],
      "execution_count": 25,
      "outputs": [
        {
          "output_type": "execute_result",
          "data": {
            "text/plain": [
              "[1, 'string', 10.5, [2, 3, 4]]"
            ]
          },
          "metadata": {
            "tags": []
          },
          "execution_count": 25
        }
      ]
    },
    {
      "cell_type": "markdown",
      "metadata": {
        "id": "FBcC_UGT0z4S"
      },
      "source": [
        "# Dictionary"
      ]
    },
    {
      "cell_type": "code",
      "metadata": {
        "id": "4DMz1wU905UJ"
      },
      "source": [
        "d = {\n",
        "    \"key\" : \"value\",\n",
        "    \"name\" : \"Tanmoy\",\n",
        "    \"Dept\" : \"CSE\",\n",
        "     10 : \"Lucky number\",\n",
        "     4 : 400\n",
        " }"
      ],
      "execution_count": 26,
      "outputs": []
    },
    {
      "cell_type": "code",
      "metadata": {
        "colab": {
          "base_uri": "https://localhost:8080/"
        },
        "id": "I1fu75hn1fKs",
        "outputId": "37c0cf0e-3c72-4af3-b58e-53420c66402f"
      },
      "source": [
        "d"
      ],
      "execution_count": 27,
      "outputs": [
        {
          "output_type": "execute_result",
          "data": {
            "text/plain": [
              "{10: 'Lucky number', 4: 400, 'Dept': 'CSE', 'key': 'value', 'name': 'Tanmoy'}"
            ]
          },
          "metadata": {
            "tags": []
          },
          "execution_count": 27
        }
      ]
    },
    {
      "cell_type": "code",
      "metadata": {
        "colab": {
          "base_uri": "https://localhost:8080/",
          "height": 35
        },
        "id": "rVFYs6Be1hmR",
        "outputId": "beda956c-915b-467a-cadb-712d7408b77f"
      },
      "source": [
        "d[\"name\"]"
      ],
      "execution_count": 28,
      "outputs": [
        {
          "output_type": "execute_result",
          "data": {
            "application/vnd.google.colaboratory.intrinsic+json": {
              "type": "string"
            },
            "text/plain": [
              "'Tanmoy'"
            ]
          },
          "metadata": {
            "tags": []
          },
          "execution_count": 28
        }
      ]
    },
    {
      "cell_type": "code",
      "metadata": {
        "colab": {
          "base_uri": "https://localhost:8080/"
        },
        "id": "w_WWloA51loO",
        "outputId": "61d14d6b-578b-40b2-cd9f-154fdaaef037"
      },
      "source": [
        "d[4]"
      ],
      "execution_count": 29,
      "outputs": [
        {
          "output_type": "execute_result",
          "data": {
            "text/plain": [
              "400"
            ]
          },
          "metadata": {
            "tags": []
          },
          "execution_count": 29
        }
      ]
    },
    {
      "cell_type": "code",
      "metadata": {
        "colab": {
          "base_uri": "https://localhost:8080/",
          "height": 35
        },
        "id": "fINQHaJR11S6",
        "outputId": "70f338ac-fa64-482f-dcb8-52348aa34619"
      },
      "source": [
        "d[\"key\"]"
      ],
      "execution_count": 30,
      "outputs": [
        {
          "output_type": "execute_result",
          "data": {
            "application/vnd.google.colaboratory.intrinsic+json": {
              "type": "string"
            },
            "text/plain": [
              "'value'"
            ]
          },
          "metadata": {
            "tags": []
          },
          "execution_count": 30
        }
      ]
    },
    {
      "cell_type": "code",
      "metadata": {
        "id": "HvTA4S8j18hE"
      },
      "source": [
        "student1 = {\n",
        "    \"name\" : \"Kasfia\",\n",
        "    \"ID\" : 18101046,\n",
        "    \"dept\" : \"CSE\",\n",
        "    \"university\" : \"UAP\"\n",
        "}"
      ],
      "execution_count": 31,
      "outputs": []
    },
    {
      "cell_type": "code",
      "metadata": {
        "id": "30tGMzGR2S6u"
      },
      "source": [
        "student2 = {\n",
        "    \"name\" : \"Aaron\",\n",
        "    \"ID\" : 18101000,\n",
        "    \"dept\" : \"CSE\",\n",
        "    \"university\" : \"UAP\"\n",
        "}"
      ],
      "execution_count": 32,
      "outputs": []
    },
    {
      "cell_type": "code",
      "metadata": {
        "colab": {
          "base_uri": "https://localhost:8080/"
        },
        "id": "TegKeh302ZGW",
        "outputId": "969d1d31-1b3d-49ba-8801-1694d6e5aaa0"
      },
      "source": [
        "student1[\"ID\"]"
      ],
      "execution_count": 33,
      "outputs": [
        {
          "output_type": "execute_result",
          "data": {
            "text/plain": [
              "18101046"
            ]
          },
          "metadata": {
            "tags": []
          },
          "execution_count": 33
        }
      ]
    },
    {
      "cell_type": "code",
      "metadata": {
        "id": "LHa9O0H72gaN"
      },
      "source": [
        "student_list = [student1, student2]"
      ],
      "execution_count": 34,
      "outputs": []
    },
    {
      "cell_type": "code",
      "metadata": {
        "id": "qZHx5WIx2jWv"
      },
      "source": [
        "l2 = [1, 3, 5, 6, 909]"
      ],
      "execution_count": 35,
      "outputs": []
    },
    {
      "cell_type": "code",
      "metadata": {
        "colab": {
          "base_uri": "https://localhost:8080/",
          "height": 35
        },
        "id": "nmQIhkue2uFX",
        "outputId": "2e769699-eb56-4c09-f7fe-21e8dfb9605a"
      },
      "source": [
        "student_list[1]['name']"
      ],
      "execution_count": 36,
      "outputs": [
        {
          "output_type": "execute_result",
          "data": {
            "application/vnd.google.colaboratory.intrinsic+json": {
              "type": "string"
            },
            "text/plain": [
              "'Aaron'"
            ]
          },
          "metadata": {
            "tags": []
          },
          "execution_count": 36
        }
      ]
    },
    {
      "cell_type": "code",
      "metadata": {
        "colab": {
          "base_uri": "https://localhost:8080/",
          "height": 35
        },
        "id": "IEIxbxet24rW",
        "outputId": "6d932019-b26d-4ea9-cecd-54306a351fe8"
      },
      "source": [
        "student2['name']"
      ],
      "execution_count": 37,
      "outputs": [
        {
          "output_type": "execute_result",
          "data": {
            "application/vnd.google.colaboratory.intrinsic+json": {
              "type": "string"
            },
            "text/plain": [
              "'Aaron'"
            ]
          },
          "metadata": {
            "tags": []
          },
          "execution_count": 37
        }
      ]
    },
    {
      "cell_type": "code",
      "metadata": {
        "id": "f2HzduXV3Bva"
      },
      "source": [
        "d_l = {\n",
        "    'list' : [1, 2, 3, 4, 5],\n",
        "    \"ID\" : 18101014\n",
        "}"
      ],
      "execution_count": 38,
      "outputs": []
    },
    {
      "cell_type": "code",
      "metadata": {
        "colab": {
          "base_uri": "https://localhost:8080/"
        },
        "id": "Mle4ZxVU3OjB",
        "outputId": "8586198c-6b92-4d2d-91d7-6862360f71ac"
      },
      "source": [
        "d_l['list']"
      ],
      "execution_count": 39,
      "outputs": [
        {
          "output_type": "execute_result",
          "data": {
            "text/plain": [
              "[1, 2, 3, 4, 5]"
            ]
          },
          "metadata": {
            "tags": []
          },
          "execution_count": 39
        }
      ]
    },
    {
      "cell_type": "code",
      "metadata": {
        "id": "fsDz1Zpp3azW"
      },
      "source": [
        "abc = \"value\"\n",
        "\n",
        "d2 = {\n",
        "    abc : \"this is an example of variable\"\n",
        "}"
      ],
      "execution_count": 40,
      "outputs": []
    },
    {
      "cell_type": "code",
      "metadata": {
        "colab": {
          "base_uri": "https://localhost:8080/",
          "height": 35
        },
        "id": "DN5QI_BW3kwH",
        "outputId": "467fd1e2-b538-48c2-d543-f466531dd9de"
      },
      "source": [
        "d2[abc]"
      ],
      "execution_count": 41,
      "outputs": [
        {
          "output_type": "execute_result",
          "data": {
            "application/vnd.google.colaboratory.intrinsic+json": {
              "type": "string"
            },
            "text/plain": [
              "'this is an example of variable'"
            ]
          },
          "metadata": {
            "tags": []
          },
          "execution_count": 41
        }
      ]
    },
    {
      "cell_type": "code",
      "metadata": {
        "colab": {
          "base_uri": "https://localhost:8080/",
          "height": 35
        },
        "id": "AW8AlBDY3yaI",
        "outputId": "cc14ee74-cc6e-4e44-d4b9-7dc205ff9ba8"
      },
      "source": [
        "d2[\"value\"]"
      ],
      "execution_count": 42,
      "outputs": [
        {
          "output_type": "execute_result",
          "data": {
            "application/vnd.google.colaboratory.intrinsic+json": {
              "type": "string"
            },
            "text/plain": [
              "'this is an example of variable'"
            ]
          },
          "metadata": {
            "tags": []
          },
          "execution_count": 42
        }
      ]
    },
    {
      "cell_type": "code",
      "metadata": {
        "colab": {
          "base_uri": "https://localhost:8080/",
          "height": 35
        },
        "id": "23leSypr4F6x",
        "outputId": "b5820f44-0ec0-44fa-a0b3-85b1e0950775"
      },
      "source": [
        "abc = \"value\"\n",
        "\n",
        "d2 = {\n",
        "    abc : \"this is an example of variable\"\n",
        "}\n",
        "\n",
        "abc = \"this is not a value\"\n",
        "\n",
        "d2[\"value\"]"
      ],
      "execution_count": 43,
      "outputs": [
        {
          "output_type": "execute_result",
          "data": {
            "application/vnd.google.colaboratory.intrinsic+json": {
              "type": "string"
            },
            "text/plain": [
              "'this is an example of variable'"
            ]
          },
          "metadata": {
            "tags": []
          },
          "execution_count": 43
        }
      ]
    },
    {
      "cell_type": "code",
      "metadata": {
        "id": "4vmouDZj4MUd"
      },
      "source": [
        "var_1 = \"name\"\n",
        "var_2 = \"Sourov\"\n",
        "\n",
        "d3 = {var_1 : var_2}"
      ],
      "execution_count": 44,
      "outputs": []
    },
    {
      "cell_type": "code",
      "metadata": {
        "colab": {
          "base_uri": "https://localhost:8080/",
          "height": 35
        },
        "id": "XOrazyGg5CqJ",
        "outputId": "b464cf3b-849b-4e08-a6ac-ae8145520671"
      },
      "source": [
        "d3[\"name\"]"
      ],
      "execution_count": 45,
      "outputs": [
        {
          "output_type": "execute_result",
          "data": {
            "application/vnd.google.colaboratory.intrinsic+json": {
              "type": "string"
            },
            "text/plain": [
              "'Sourov'"
            ]
          },
          "metadata": {
            "tags": []
          },
          "execution_count": 45
        }
      ]
    }
  ]
}