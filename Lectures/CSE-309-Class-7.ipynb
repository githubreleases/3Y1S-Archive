{
 "cells": [
  {
   "cell_type": "markdown",
   "metadata": {
    "colab_type": "text",
    "id": "view-in-github"
   },
   "source": [
    "<a href=\"https://colab.research.google.com/github/sourovw/3Y1S-Archive/blob/master/Lectures/CSE-309-Class-7.ipynb\" target=\"_parent\"><img src=\"https://colab.research.google.com/assets/colab-badge.svg\" alt=\"Open In Colab\"/></a>"
   ]
  },
  {
   "cell_type": "markdown",
   "metadata": {
    "id": "kdQkXrNCn5nn"
   },
   "source": [
    "# Class"
   ]
  },
  {
   "cell_type": "code",
   "execution_count": 1,
   "metadata": {
    "id": "BU3kP402iYA2"
   },
   "outputs": [],
   "source": [
    "class Account:\n",
    "    account_number = 0\n",
    "    balance = 0.0\n",
    "\n",
    "    def show_data(self):\n",
    "        # account_number -> just checks the method parameters\n",
    "        # self.account_number -> checks the class parameters\n",
    "        print(self.account_number, \" : \", self.balance)\n",
    "\n",
    "    def set_balance(self, balance):\n",
    "        # self.balance -> class variable\n",
    "        # balance -> method parameter\n",
    "        self.balance = balance"
   ]
  },
  {
   "cell_type": "code",
   "execution_count": 2,
   "metadata": {
    "id": "jNCgYAq8ja0Q"
   },
   "outputs": [],
   "source": [
    "a = Account()"
   ]
  },
  {
   "cell_type": "code",
   "execution_count": 3,
   "metadata": {
    "colab": {
     "base_uri": "https://localhost:8080/"
    },
    "id": "5LTcpmzIjspl",
    "outputId": "1cf4b284-734a-43da-d47f-84fdfe39016b"
   },
   "outputs": [
    {
     "name": "stdout",
     "output_type": "stream",
     "text": [
      "0 0.0\n"
     ]
    }
   ],
   "source": [
    "print(a.account_number, a.balance)"
   ]
  },
  {
   "cell_type": "code",
   "execution_count": 4,
   "metadata": {
    "colab": {
     "base_uri": "https://localhost:8080/"
    },
    "id": "v584zbOejvWE",
    "outputId": "3d98a938-f393-4627-d306-2b6cb5078799"
   },
   "outputs": [
    {
     "name": "stdout",
     "output_type": "stream",
     "text": [
      "0  :  0.0\n"
     ]
    }
   ],
   "source": [
    "a.show_data()"
   ]
  },
  {
   "cell_type": "code",
   "execution_count": 5,
   "metadata": {
    "id": "zcf1zh1zlqEa"
   },
   "outputs": [],
   "source": [
    "a.set_balance(1000)"
   ]
  },
  {
   "cell_type": "code",
   "execution_count": 6,
   "metadata": {
    "id": "8325cppTlyAg"
   },
   "outputs": [],
   "source": [
    "a.account_number = 55"
   ]
  },
  {
   "cell_type": "code",
   "execution_count": 7,
   "metadata": {
    "colab": {
     "base_uri": "https://localhost:8080/"
    },
    "id": "Kr5gm54wKr2c",
    "outputId": "c3ea41ab-f2d5-46e3-c88f-2cc84e6f8440"
   },
   "outputs": [
    {
     "name": "stdout",
     "output_type": "stream",
     "text": [
      "55  :  1000\n"
     ]
    }
   ],
   "source": [
    "a.show_data()"
   ]
  },
  {
   "cell_type": "markdown",
   "metadata": {
    "id": "jGT7TmWTn-sc"
   },
   "source": [
    "# Access Modifiers: Public and Private"
   ]
  },
  {
   "cell_type": "code",
   "execution_count": 8,
   "metadata": {
    "id": "JNEqKe5LmBPM"
   },
   "outputs": [],
   "source": [
    "class Account2: \n",
    "    account_number = 0 # public attribute\n",
    "    __balance = 0.0 # private attribute\n",
    "\n",
    "    def show_data(self):\n",
    "        # account_number -> just checks the method parameters\n",
    "        # self.account_number -> checks the class parameters\n",
    "        print(self.account_number, \" : \", self.__balance)\n",
    "\n",
    "    def add_balance(self, balance):\n",
    "        # self.balance -> class variable\n",
    "        # balance -> method parameter\n",
    "        self.__balance += balance"
   ]
  },
  {
   "cell_type": "code",
   "execution_count": 9,
   "metadata": {
    "id": "Cta73LT_mDOA"
   },
   "outputs": [],
   "source": [
    "a2 = Account2()"
   ]
  },
  {
   "cell_type": "code",
   "execution_count": 10,
   "metadata": {
    "id": "O3a0JA8KnGHP"
   },
   "outputs": [],
   "source": [
    "a2.account_number = 55"
   ]
  },
  {
   "cell_type": "code",
   "execution_count": 11,
   "metadata": {
    "colab": {
     "base_uri": "https://localhost:8080/"
    },
    "id": "Et7PpP8Cm_E-",
    "outputId": "b47ed1f7-5df8-4002-ed95-51c4ac9a710d"
   },
   "outputs": [
    {
     "name": "stdout",
     "output_type": "stream",
     "text": [
      "55  :  0.0\n"
     ]
    }
   ],
   "source": [
    "a2.show_data()"
   ]
  },
  {
   "cell_type": "code",
   "execution_count": 12,
   "metadata": {
    "id": "WSQIJi3DnJMd"
   },
   "outputs": [],
   "source": [
    "a2.add_balance(5000)"
   ]
  },
  {
   "cell_type": "code",
   "execution_count": 13,
   "metadata": {
    "colab": {
     "base_uri": "https://localhost:8080/"
    },
    "id": "mTjPixrNK5u_",
    "outputId": "3b08a5ea-d3a9-4994-af29-3f988cef229e"
   },
   "outputs": [
    {
     "name": "stdout",
     "output_type": "stream",
     "text": [
      "55  :  1000\n"
     ]
    }
   ],
   "source": [
    "a.show_data()"
   ]
  },
  {
   "cell_type": "code",
   "execution_count": 14,
   "metadata": {
    "id": "f5-_47_2mTLR"
   },
   "outputs": [],
   "source": [
    "a2.__balance = 1000"
   ]
  },
  {
   "cell_type": "code",
   "execution_count": 15,
   "metadata": {
    "colab": {
     "base_uri": "https://localhost:8080/"
    },
    "id": "xV4hIbA9K8D6",
    "outputId": "9a9a93c6-8a80-4163-9b39-55453143085c"
   },
   "outputs": [
    {
     "name": "stdout",
     "output_type": "stream",
     "text": [
      "55  :  1000\n"
     ]
    }
   ],
   "source": [
    "a.show_data()"
   ]
  },
  {
   "cell_type": "markdown",
   "metadata": {
    "id": "wz711fIHoGfU"
   },
   "source": [
    "# Constructor Initialization"
   ]
  },
  {
   "cell_type": "code",
   "execution_count": 16,
   "metadata": {
    "id": "UmNYi--woGzs"
   },
   "outputs": [],
   "source": [
    "class Account3:\n",
    "    account_number = 0 # public attribute\n",
    "    __balance = 0.0 # private attribute\n",
    "\n",
    "    def __init__(self, account_number, balance): # this is the constructor\n",
    "        self.account_number = account_number\n",
    "        self.__balance = balance\n",
    "\n",
    "    def show_data(self):\n",
    "        # account_number -> just checks the method parameters\n",
    "        # self.account_number -> checks the class parameters\n",
    "        print(self.account_number, \" : \", self.__balance)\n",
    "\n",
    "    def add_balance(self, balance):\n",
    "        # self.balance -> class variable\n",
    "        # balance -> method parameter\n",
    "        self.__balance += balance"
   ]
  },
  {
   "cell_type": "code",
   "execution_count": 17,
   "metadata": {
    "id": "vDE6BgUdpXjd"
   },
   "outputs": [],
   "source": [
    "a3 = Account3(55, 8000)"
   ]
  },
  {
   "cell_type": "code",
   "execution_count": 18,
   "metadata": {
    "colab": {
     "base_uri": "https://localhost:8080/"
    },
    "id": "u0OHqmi9pb56",
    "outputId": "28f8b420-840e-43fd-ff4f-a3f3871a104e"
   },
   "outputs": [
    {
     "name": "stdout",
     "output_type": "stream",
     "text": [
      "55  :  8000\n"
     ]
    }
   ],
   "source": [
    "a3.show_data()"
   ]
  },
  {
   "cell_type": "markdown",
   "metadata": {
    "id": "prWGTn92pt_F"
   },
   "source": [
    "# Another Example of Class"
   ]
  },
  {
   "cell_type": "code",
   "execution_count": 19,
   "metadata": {
    "id": "NOPJZeX5pwdo"
   },
   "outputs": [],
   "source": [
    "class Shopping_Complex:\n",
    "    def __init__(self, name, location, owner):\n",
    "        self.name = name\n",
    "        self.location = location\n",
    "        self.owner = owner\n",
    "\n",
    "    def set_shops(self, n):\n",
    "        self.number_of_shops = n\n",
    "\n",
    "    def open_or_close(self, day):\n",
    "        if (day == \"Sunday\"):\n",
    "            print(\"Closed!\")\n",
    "        else:\n",
    "            print(\"Welcome. We are open!\")\n",
    "    \n",
    "    def show_info(self):\n",
    "        print(\"Name: \", self.name)\n",
    "        print(\"Owner: \", self.owner)\n",
    "        print(\"Location: \", self.location)\n",
    "        print(\"Shops count:\", self.number_of_shops)"
   ]
  },
  {
   "cell_type": "code",
   "execution_count": 20,
   "metadata": {
    "id": "n776pqI_rJHj"
   },
   "outputs": [],
   "source": [
    "tong = Shopping_Complex(\"Tong Ghawr\", \"Dhaka\", \"Mr. P\")"
   ]
  },
  {
   "cell_type": "code",
   "execution_count": 21,
   "metadata": {
    "id": "zo6nWHm4rkat"
   },
   "outputs": [],
   "source": [
    "tong.set_shops(10000)"
   ]
  },
  {
   "cell_type": "code",
   "execution_count": 22,
   "metadata": {
    "colab": {
     "base_uri": "https://localhost:8080/"
    },
    "id": "NCOcpQNYr9Lh",
    "outputId": "d6f2119a-6225-4dd0-bad3-ed4868f62405"
   },
   "outputs": [
    {
     "name": "stdout",
     "output_type": "stream",
     "text": [
      "Welcome. We are open!\n"
     ]
    }
   ],
   "source": [
    "tong.open_or_close(\"Friday\")"
   ]
  },
  {
   "cell_type": "code",
   "execution_count": 23,
   "metadata": {
    "colab": {
     "base_uri": "https://localhost:8080/"
    },
    "id": "vWFMUvOKsDCn",
    "outputId": "2f239978-40c4-4cc0-f491-9f40bc5ab99f"
   },
   "outputs": [
    {
     "name": "stdout",
     "output_type": "stream",
     "text": [
      "Closed!\n"
     ]
    }
   ],
   "source": [
    "tong.open_or_close(\"Sunday\")"
   ]
  },
  {
   "cell_type": "code",
   "execution_count": 24,
   "metadata": {
    "colab": {
     "base_uri": "https://localhost:8080/"
    },
    "id": "yiUrtwYmsNMg",
    "outputId": "a4661204-4630-4af8-e79e-e4ec8ef1c312"
   },
   "outputs": [
    {
     "name": "stdout",
     "output_type": "stream",
     "text": [
      "Name:  Tong Ghawr\n",
      "Owner:  Mr. P\n",
      "Location:  Dhaka\n",
      "Shops count: 10000\n"
     ]
    }
   ],
   "source": [
    "tong.show_info()"
   ]
  },
  {
   "cell_type": "markdown",
   "metadata": {
    "id": "BreQ7HZnw0l0"
   },
   "source": [
    "# Object Attributes"
   ]
  },
  {
   "cell_type": "code",
   "execution_count": 25,
   "metadata": {
    "id": "v1GRDcC9xB4C"
   },
   "outputs": [],
   "source": [
    "class CEO:\n",
    "    def __init__(self, name, age):\n",
    "        self.name = name\n",
    "        self.age = age\n",
    "  \n",
    "    def show_info(self):\n",
    "        print(\"CEO Name:\", self.name)\n",
    "        print(\"CEO Age:\", self.age)"
   ]
  },
  {
   "cell_type": "code",
   "execution_count": 26,
   "metadata": {
    "id": "W5zeihkmxboE"
   },
   "outputs": [],
   "source": [
    "s1 = CEO(\"Sourov\", 23)"
   ]
  },
  {
   "cell_type": "code",
   "execution_count": 27,
   "metadata": {
    "colab": {
     "base_uri": "https://localhost:8080/"
    },
    "id": "O3-CAvvKMug3",
    "outputId": "14ecd5ca-8cdc-4d2f-963f-9f59b10086d3"
   },
   "outputs": [
    {
     "name": "stdout",
     "output_type": "stream",
     "text": [
      "CEO Name: Sourov\n",
      "CEO Age: 23\n"
     ]
    }
   ],
   "source": [
    "s1.show_info()"
   ]
  },
  {
   "cell_type": "code",
   "execution_count": 28,
   "metadata": {
    "id": "vTrdrkYfxkYz"
   },
   "outputs": [],
   "source": [
    "tong.CEO = s1"
   ]
  },
  {
   "cell_type": "code",
   "execution_count": 29,
   "metadata": {
    "colab": {
     "base_uri": "https://localhost:8080/"
    },
    "id": "6kuHXikRwiZ1",
    "outputId": "000aecdf-7f2b-474c-8357-736a07bb502f"
   },
   "outputs": [
    {
     "name": "stdout",
     "output_type": "stream",
     "text": [
      "CEO Name: Sourov\n",
      "CEO Age: 23\n"
     ]
    }
   ],
   "source": [
    "tong.CEO.show_info()"
   ]
  },
  {
   "cell_type": "code",
   "execution_count": 30,
   "metadata": {
    "id": "Zz5feI_mwm_d"
   },
   "outputs": [],
   "source": [
    "bros = Shopping_Complex(\"Bros Shopping Complex\", \"Dhaka\", \"Sourov\")"
   ]
  },
  {
   "cell_type": "code",
   "execution_count": 31,
   "metadata": {
    "id": "eUSWxFx2wvoN"
   },
   "outputs": [],
   "source": [
    "bros.set_shops(10)"
   ]
  },
  {
   "cell_type": "code",
   "execution_count": 32,
   "metadata": {
    "colab": {
     "base_uri": "https://localhost:8080/"
    },
    "id": "y-MEl2GDNx2h",
    "outputId": "79e2873f-3a47-437c-c8a3-303aa15daffd"
   },
   "outputs": [
    {
     "name": "stdout",
     "output_type": "stream",
     "text": [
      "Name:  Bros Shopping Complex\n",
      "Owner:  Sourov\n",
      "Location:  Dhaka\n",
      "Shops count: 10\n"
     ]
    }
   ],
   "source": [
    "bros.show_info()"
   ]
  },
  {
   "cell_type": "markdown",
   "metadata": {
    "id": "ByRCzYMat1Gt"
   },
   "source": [
    "# The Big Question: What are Class and Object??\n",
    "\n",
    "```\n",
    "Class is logical entity but object is physical.\n",
    "- Price\n",
    "```\n"
   ]
  }
 ],
 "metadata": {
  "colab": {
   "collapsed_sections": [],
   "include_colab_link": true,
   "name": "6.CSE-309-Class-7.ipynb",
   "provenance": []
  },
  "kernelspec": {
   "display_name": "Python 3",
   "language": "python",
   "name": "python3"
  },
  "language_info": {
   "codemirror_mode": {
    "name": "ipython",
    "version": 3
   },
   "file_extension": ".py",
   "mimetype": "text/x-python",
   "name": "python",
   "nbconvert_exporter": "python",
   "pygments_lexer": "ipython3",
   "version": "3.8.3"
  }
 },
 "nbformat": 4,
 "nbformat_minor": 1
}
