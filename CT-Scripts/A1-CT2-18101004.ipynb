{
  "nbformat": 4,
  "nbformat_minor": 0,
  "metadata": {
    "colab": {
      "name": "A1_CT_2_18101004.ipynb",
      "provenance": [],
      "collapsed_sections": [],
      "authorship_tag": "ABX9TyOLXAcxGdawxRDTMg9r8ArH",
      "include_colab_link": true
    },
    "kernelspec": {
      "name": "python3",
      "display_name": "Python 3"
    }
  },
  "cells": [
    {
      "cell_type": "markdown",
      "metadata": {
        "id": "view-in-github",
        "colab_type": "text"
      },
      "source": [
        "<a href=\"https://colab.research.google.com/github/sourovw/3Y1S-Codes/blob/master/CT-Scripts/A1-CT2-18101004.ipynb\" target=\"_parent\"><img src=\"https://colab.research.google.com/assets/colab-badge.svg\" alt=\"Open In Colab\"/></a>"
      ]
    },
    {
      "cell_type": "markdown",
      "metadata": {
        "id": "1oOxlGFklZT3"
      },
      "source": [
        "Write a program to check Leap year."
      ]
    },
    {
      "cell_type": "code",
      "metadata": {
        "id": "FWpOfj2gfXjw",
        "colab": {
          "base_uri": "https://localhost:8080/"
        },
        "outputId": "d08fea02-a760-44ca-be56-22043253693a"
      },
      "source": [
        "year = int(input(\"Year: \"))\n",
        "\n",
        "if (year % 400) == 0 :\n",
        "    print(\"is_leap_year\")\n",
        "elif (year % 100) == 0 :\n",
        "    print(\"not_leap_year\")\n",
        "elif (year % 4) == 0 :\n",
        "    print(\"is_leap_year\")\n",
        "else:\n",
        "    print(\"not_leap_year\")"
      ],
      "execution_count": 2,
      "outputs": [
        {
          "output_type": "stream",
          "text": [
            "Year: 2020\n",
            "is_leap_year\n"
          ],
          "name": "stdout"
        }
      ]
    },
    {
      "cell_type": "markdown",
      "metadata": {
        "id": "lO-BJocPlfyk"
      },
      "source": [
        "Given a string of length 12, divide the string into 4 parts of length 3. Then swap the first part with the last part. Output the final string."
      ]
    },
    {
      "cell_type": "code",
      "metadata": {
        "id": "sD5ryLc1pLrL",
        "colab": {
          "base_uri": "https://localhost:8080/"
        },
        "outputId": "eb8b3db6-f4f7-488d-b97d-d4dbcbc784df"
      },
      "source": [
        "given = \"ABCDEFGHIJKL\"\n",
        "\n",
        "part1 = given[0 : 3]\n",
        "part2 = given[3 : 6]\n",
        "part3 = given[6 : 9]\n",
        "part4 = given[9 : 12]\n",
        "\n",
        "output = (part4 + part3 + part2 + part1)\n",
        "print(output)"
      ],
      "execution_count": 3,
      "outputs": [
        {
          "output_type": "stream",
          "text": [
            "JKLGHIDEFABC\n"
          ],
          "name": "stdout"
        }
      ]
    },
    {
      "cell_type": "markdown",
      "metadata": {
        "id": "lom9lDsmtPOb"
      },
      "source": [
        "Suppose you are going to start a Django Project with a group of 5 members. Now, you need to store the information (Name, ID, CGPA, Email Address, and Contact No.) about the group members in some variables. Choose the appropriate data type where one can search a member effectively."
      ]
    },
    {
      "cell_type": "code",
      "metadata": {
        "id": "l79YUVWetQcv"
      },
      "source": [
        "my_dic = {\n",
        "    18101004 : {\n",
        "        \"Name\" : \"Sourov\",\n",
        "        \"ID\" : \"18101004\",\n",
        "        \"CGPA\" : 3.50,\n",
        "        \"Email_Address\" : \"abc@mail.com\",\n",
        "        \"Contact_No\" : \"01784264753\"\n",
        "    },\n",
        "    18101005 : {\n",
        "        \"Name\" : \"Gourov\",\n",
        "        \"ID\" : \"18101005\",\n",
        "        \"CGPA\" : 3.00,\n",
        "        \"Email_Address\" : \"ubc@mail.com\",\n",
        "        \"Contact_No\" : \"01784565753\"\n",
        "    },\n",
        "    18101009 : {\n",
        "        \"Name\" : \"Kabir\",\n",
        "        \"ID\" : \"18101009\",\n",
        "        \"CGPA\" : 3.67,\n",
        "        \"Email_Address\" : \"ksh@mail.com\",\n",
        "        \"Contact_No\" : \"01788864753\"\n",
        "    },\n",
        "    18101010 : {\n",
        "        \"Name\" : \"Ovi\",\n",
        "        \"ID\" : \"18101010\",\n",
        "        \"CGPA\" : 3.48,\n",
        "        \"Email_Address\" : \"ovi@mail.com\",\n",
        "        \"Contact_No\" : \"01784004753\"\n",
        "    },\n",
        "    18101011 : {\n",
        "        \"Name\" : \"Neel\",\n",
        "        \"ID\" : \"18101011\",\n",
        "        \"CGPA\" : 3.18,\n",
        "        \"Email_Address\" : \"neel@mail.com\",\n",
        "        \"Contact_No\" : \"01784264700\"\n",
        "    }\n",
        "}"
      ],
      "execution_count": 4,
      "outputs": []
    },
    {
      "cell_type": "code",
      "metadata": {
        "colab": {
          "base_uri": "https://localhost:8080/"
        },
        "id": "CPZ-2RfVRQTn",
        "outputId": "ec1614a9-9b9c-42d1-faad-15e77fc2f815"
      },
      "source": [
        "my_dic[18101004]"
      ],
      "execution_count": 5,
      "outputs": [
        {
          "output_type": "execute_result",
          "data": {
            "text/plain": [
              "{'CGPA': 3.5,\n",
              " 'Contact_No': '01784264753',\n",
              " 'Email_Address': 'abc@mail.com',\n",
              " 'ID': '18101004',\n",
              " 'Name': 'Sourov'}"
            ]
          },
          "metadata": {
            "tags": []
          },
          "execution_count": 5
        }
      ]
    },
    {
      "cell_type": "markdown",
      "metadata": {
        "id": "h_gT8ZkwQ2Ad"
      },
      "source": [
        "Choose variables of appropriate data type to store the information of the following table in a way that if someone inputs the Employee ID, it will show all the information of that Employee."
      ]
    },
    {
      "cell_type": "code",
      "metadata": {
        "id": "18QZHDecQVHe"
      },
      "source": [
        "Employee = {\n",
        "    1001 : {\n",
        "        \"Ename\" : \"John\",\n",
        "        \"DeptID\" : 2,\n",
        "        \"Salary\" : 4000,\n",
        "        \"Dname\" : \"IT\",\n",
        "        \"Dlocation\" : \"New Delhi\"\n",
        "    },\n",
        "    1002 : {\n",
        "        \"Ename\" : \"Anna\",\n",
        "        \"DeptID\" : 1,\n",
        "        \"Salary\" : 3500,\n",
        "        \"Dname\" : \"HR\",\n",
        "        \"Dlocation\" : \"Mumbai\"\n",
        "    },\n",
        "    1003 : {\n",
        "        \"Ename\" : \"James\",\n",
        "        \"DeptID\" : 1,\n",
        "        \"Salary\" : 2500,\n",
        "        \"Dname\" : \"HR\",\n",
        "        \"Dlocation\" : \"Mumbai\"\n",
        "    },\n",
        "    1004 : {\n",
        "        \"Ename\" : \"David\",\n",
        "        \"DeptID\" : 2,\n",
        "        \"Salary\" : 5000,\n",
        "        \"Dname\" : \"IT\",\n",
        "        \"Dlocation\" : \"New Delhi\"\n",
        "    }\n",
        "}"
      ],
      "execution_count": 6,
      "outputs": []
    },
    {
      "cell_type": "code",
      "metadata": {
        "colab": {
          "base_uri": "https://localhost:8080/"
        },
        "id": "P-Fq_eFZQf7x",
        "outputId": "44a95024-03f5-4a52-b34a-ec10e447b6e0"
      },
      "source": [
        "key = int(input())\n",
        "Employee[key]"
      ],
      "execution_count": 11,
      "outputs": [
        {
          "output_type": "stream",
          "text": [
            "1002\n"
          ],
          "name": "stdout"
        },
        {
          "output_type": "execute_result",
          "data": {
            "text/plain": [
              "{'DeptID': 1,\n",
              " 'Dlocation': 'Mumbai',\n",
              " 'Dname': 'HR',\n",
              " 'Ename': 'Anna',\n",
              " 'Salary': 3500}"
            ]
          },
          "metadata": {
            "tags": []
          },
          "execution_count": 11
        }
      ]
    }
  ]
}