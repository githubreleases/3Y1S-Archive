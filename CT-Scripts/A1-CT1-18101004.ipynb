{
  "nbformat": 4,
  "nbformat_minor": 0,
  "metadata": {
    "colab": {
      "name": "A1_CT_1_18101004.ipynb",
      "provenance": [],
      "collapsed_sections": [],
      "authorship_tag": "ABX9TyP+/4vtm7SYmR+5azt56pw6",
      "include_colab_link": true
    },
    "kernelspec": {
      "name": "python3",
      "display_name": "Python 3"
    }
  },
  "cells": [
    {
      "cell_type": "markdown",
      "metadata": {
        "id": "view-in-github",
        "colab_type": "text"
      },
      "source": [
        "<a href=\"https://colab.research.google.com/github/sourovw/3Y1S-Codes/blob/master/CT-Scripts/A1-CT1-18101004.ipynb\" target=\"_parent\"><img src=\"https://colab.research.google.com/assets/colab-badge.svg\" alt=\"Open In Colab\"/></a>"
      ]
    },
    {
      "cell_type": "markdown",
      "metadata": {
        "id": "e_GD4CDanAwQ"
      },
      "source": [
        "Write a python program to calculate compound interest."
      ]
    },
    {
      "cell_type": "code",
      "metadata": {
        "id": "DTnlN67cnDr-",
        "colab": {
          "base_uri": "https://localhost:8080/"
        },
        "outputId": "b93e8e2a-fb5c-47f2-9a4a-b2be43febfee"
      },
      "source": [
        "p = float(input(\"principle: \"))\n",
        "t = float(input(\"time: \"))\n",
        "r = float(input(\"rate: \"))\n",
        "\n",
        "result = p * ((1 + r / 100) ** t)\n",
        "\n",
        "print(\"result:\", result)"
      ],
      "execution_count": 1,
      "outputs": [
        {
          "output_type": "stream",
          "text": [
            "principle: 1200\n",
            "time: 2\n",
            "rate: 5.4\n",
            "result: 1333.0992\n"
          ],
          "name": "stdout"
        }
      ]
    },
    {
      "cell_type": "markdown",
      "metadata": {
        "id": "d6pjr7gzppA7"
      },
      "source": [
        "Write a python program to calculate the surface area and volume of a cylinder."
      ]
    },
    {
      "cell_type": "code",
      "metadata": {
        "id": "ahZIf_KzpyoK",
        "colab": {
          "base_uri": "https://localhost:8080/"
        },
        "outputId": "0640b727-9a63-4231-a1ef-4c429175b976"
      },
      "source": [
        "pi = 3.1416\n",
        "r = float(input(\"Radius: \"))\n",
        "h = float(input(\"Height: \"))\n",
        "\n",
        "vol = pi * r * r * h\n",
        "surf = ((2 * pi * r) * h) + ((pi * r ** 2) * 2)\n",
        "\n",
        "print(\"Surface area:\", round(surf, 2))\n",
        "print(\"Volume:\", round(vol, 2))"
      ],
      "execution_count": 2,
      "outputs": [
        {
          "output_type": "stream",
          "text": [
            "Radius: 10\n",
            "Height: 5\n",
            "Surface area: 942.48\n",
            "Volume: 1570.8\n"
          ],
          "name": "stdout"
        }
      ]
    },
    {
      "cell_type": "markdown",
      "metadata": {
        "id": "wJMQR4yLsRcP"
      },
      "source": [
        "Write a python program to calculate the volume and surface area of Cone."
      ]
    },
    {
      "cell_type": "code",
      "metadata": {
        "id": "zTCuT-hbsiu_",
        "colab": {
          "base_uri": "https://localhost:8080/"
        },
        "outputId": "7cddfde9-8f9c-448a-b96e-1857356ea6e2"
      },
      "source": [
        "pi = 3.1416\n",
        "r = float(input(\"Radius: \"))\n",
        "h = float(input(\"Height: \"))\n",
        "\n",
        "vol = (1/3) * (pi * r ** 2 * h)\n",
        "surf = (pi * r * h) + (pi * r ** 2)\n",
        "\n",
        "print(\"Volume:\", round(vol, 2))\n",
        "print(\"Surface area:\", round(surf, 2))"
      ],
      "execution_count": 4,
      "outputs": [
        {
          "output_type": "stream",
          "text": [
            "Radius: 10\n",
            "Height: 5\n",
            "Volume: 523.6\n",
            "Surface area: 471.24\n"
          ],
          "name": "stdout"
        }
      ]
    },
    {
      "cell_type": "markdown",
      "metadata": {
        "id": "fVJCi-LeuHsX"
      },
      "source": [
        "Write a python program to calculate the volume and surface area of Sphere."
      ]
    },
    {
      "cell_type": "code",
      "metadata": {
        "id": "hbSvsQTEubb2",
        "colab": {
          "base_uri": "https://localhost:8080/"
        },
        "outputId": "08f4bd83-b68b-4880-ce74-81d88a427965"
      },
      "source": [
        "pi = 3.1416\n",
        "r = float(input(\"Radius: \"))\n",
        "\n",
        "sph = (4/3) * pi * r ** 3\n",
        "surf = 4 * pi * r ** 2\n",
        "\n",
        "print(\"Sphere:\", round(sph, 2))\n",
        "print(\"Surface area:\", round(surf, 2))"
      ],
      "execution_count": 5,
      "outputs": [
        {
          "output_type": "stream",
          "text": [
            "Radius: 13\n",
            "Sphere: 9202.79\n",
            "Surface area: 2123.72\n"
          ],
          "name": "stdout"
        }
      ]
    }
  ]
}