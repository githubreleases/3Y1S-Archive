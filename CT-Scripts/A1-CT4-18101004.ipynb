{
  "nbformat": 4,
  "nbformat_minor": 0,
  "metadata": {
    "colab": {
      "name": "A1_CT_4_18101004.ipynb",
      "provenance": [],
      "collapsed_sections": [],
      "authorship_tag": "ABX9TyPmAENEhd+eAy94QsNBPHRd",
      "include_colab_link": true
    },
    "kernelspec": {
      "name": "python3",
      "display_name": "Python 3"
    }
  },
  "cells": [
    {
      "cell_type": "markdown",
      "metadata": {
        "id": "view-in-github",
        "colab_type": "text"
      },
      "source": [
        "<a href=\"https://colab.research.google.com/github/sourovw/3Y1S-Codes/blob/master/CT-Scripts/A1-CT4-18101004.ipynb\" target=\"_parent\"><img src=\"https://colab.research.google.com/assets/colab-badge.svg\" alt=\"Open In Colab\"/></a>"
      ]
    },
    {
      "cell_type": "markdown",
      "metadata": {
        "id": "XVSruUSXfGke"
      },
      "source": [
        "Write a Credit Card class in python. A user can cash out (debit) money or pay shopping bills from his/her own card based on availability or limit. Initially, a credit card holder gets 100000 taka limit. The user has to pay back to the credit card bank."
      ]
    },
    {
      "cell_type": "code",
      "metadata": {
        "id": "yk3AChOafLjb"
      },
      "source": [
        "class credit_card:\n",
        "    def __init__(self, name, cc_no, balance, max_lim):\n",
        "        self.name = name\n",
        "        self.cc_no = cc_no\n",
        "        self.balance = balance\n",
        "        self.max_lim = max_lim\n",
        "\n",
        "    \n",
        "    def deposit(self, balance):\n",
        "        if balance > 0:\n",
        "            self.balance += balance\n",
        "            print(\"Deposited successfully\\nDeposit amount:\", self.balance)\n",
        "        else:\n",
        "            print(\"Deposit amount must me positive.\")\n",
        "    \n",
        "    \n",
        "    def debit(self, balance):\n",
        "        if balance <= self.balance:\n",
        "            if balance <= self.max_lim:\n",
        "                self.balance -= balance\n",
        "                print(\"Debited successfully\\nDebit amount:\", balance)\n",
        "            else:\n",
        "                print(\"Sorry. Debit amount must be equal or less than \", self.max_lim)\n",
        "        else:\n",
        "            print(\"Insufficient balance.\")\n",
        "    \n",
        "    \n",
        "    def show_current_balance(self):\n",
        "        print(\"Your current account balance is\", self.balance)\n",
        "    \n",
        "    \n",
        "    def pay_bill(self, balance):\n",
        "        if balance <= self.balance:\n",
        "            if balance <= self.max_lim:\n",
        "                self.balance -= balance\n",
        "                print(\"Paid bill successfully\\nPaid amount:\", balance)\n",
        "            else:\n",
        "                print(\"Sorry. Pay bill must be equal or less than\", self.max_lim)\n",
        "        else:\n",
        "            print(\"Insufficient balance.\")"
      ],
      "execution_count": 1,
      "outputs": []
    },
    {
      "cell_type": "code",
      "metadata": {
        "id": "uo4k3xOCfi7h"
      },
      "source": [
        "acc = credit_card(\"Sourov\", \"18832353\", 2749.50, 100000)"
      ],
      "execution_count": 2,
      "outputs": []
    },
    {
      "cell_type": "code",
      "metadata": {
        "id": "F5jP4H4qfn19",
        "colab": {
          "base_uri": "https://localhost:8080/"
        },
        "outputId": "4a34a577-13e1-457f-a333-3db94003703d"
      },
      "source": [
        "acc.show_current_balance()"
      ],
      "execution_count": 3,
      "outputs": [
        {
          "output_type": "stream",
          "text": [
            "Your current account balance is 2749.5\n"
          ],
          "name": "stdout"
        }
      ]
    },
    {
      "cell_type": "code",
      "metadata": {
        "id": "MKnA8Zvjfrck",
        "colab": {
          "base_uri": "https://localhost:8080/"
        },
        "outputId": "8762b767-1163-4a1c-cff6-6fcbe0b81916"
      },
      "source": [
        "acc.debit(10)"
      ],
      "execution_count": 4,
      "outputs": [
        {
          "output_type": "stream",
          "text": [
            "Debited successfully\n",
            "Debit amount: 10\n"
          ],
          "name": "stdout"
        }
      ]
    },
    {
      "cell_type": "code",
      "metadata": {
        "id": "ZELqbUGefsKY",
        "colab": {
          "base_uri": "https://localhost:8080/"
        },
        "outputId": "f6e57b8b-9b99-44fa-a55d-e1f48b0e8d95"
      },
      "source": [
        "acc.pay_bill(100)"
      ],
      "execution_count": 5,
      "outputs": [
        {
          "output_type": "stream",
          "text": [
            "Paid bill successfully\n",
            "Paid amount: 100\n"
          ],
          "name": "stdout"
        }
      ]
    },
    {
      "cell_type": "code",
      "metadata": {
        "id": "yoyrADhNfucV",
        "colab": {
          "base_uri": "https://localhost:8080/"
        },
        "outputId": "f61e976f-12bf-4af1-fd29-1b896c7884c7"
      },
      "source": [
        "acc.deposit(-1)"
      ],
      "execution_count": 6,
      "outputs": [
        {
          "output_type": "stream",
          "text": [
            "Deposit amount must me positive.\n"
          ],
          "name": "stdout"
        }
      ]
    },
    {
      "cell_type": "code",
      "metadata": {
        "id": "P1aGqG3lfy3y",
        "colab": {
          "base_uri": "https://localhost:8080/"
        },
        "outputId": "0b4610f4-61e1-47eb-f695-44ec815bce1c"
      },
      "source": [
        "acc.deposit(200000)"
      ],
      "execution_count": 7,
      "outputs": [
        {
          "output_type": "stream",
          "text": [
            "Deposited successfully\n",
            "Deposit amount: 202639.5\n"
          ],
          "name": "stdout"
        }
      ]
    },
    {
      "cell_type": "code",
      "metadata": {
        "id": "QbB9aKaQf0no",
        "colab": {
          "base_uri": "https://localhost:8080/"
        },
        "outputId": "a0e65249-5908-452b-8ced-77c63b1c2e07"
      },
      "source": [
        "acc.show_current_balance()"
      ],
      "execution_count": 8,
      "outputs": [
        {
          "output_type": "stream",
          "text": [
            "Your current account balance is 202639.5\n"
          ],
          "name": "stdout"
        }
      ]
    },
    {
      "cell_type": "code",
      "metadata": {
        "id": "fJcOBQnSf1X3",
        "colab": {
          "base_uri": "https://localhost:8080/"
        },
        "outputId": "f9703540-a6af-4c01-a4a8-1cc6cf6ac05f"
      },
      "source": [
        "acc.debit(10000)"
      ],
      "execution_count": 9,
      "outputs": [
        {
          "output_type": "stream",
          "text": [
            "Debited successfully\n",
            "Debit amount: 10000\n"
          ],
          "name": "stdout"
        }
      ]
    },
    {
      "cell_type": "code",
      "metadata": {
        "id": "lEce4-chf4q8",
        "colab": {
          "base_uri": "https://localhost:8080/"
        },
        "outputId": "99f1fe7f-4e37-434d-8175-9973c52ba767"
      },
      "source": [
        "acc.pay_bill(100001)"
      ],
      "execution_count": 10,
      "outputs": [
        {
          "output_type": "stream",
          "text": [
            "Sorry. Pay bill must be equal or less than 100000\n"
          ],
          "name": "stdout"
        }
      ]
    },
    {
      "cell_type": "code",
      "metadata": {
        "id": "YzBEq9Pmf7SA",
        "colab": {
          "base_uri": "https://localhost:8080/"
        },
        "outputId": "2ec6ffa7-2954-4b06-bab9-a0fc12962bce"
      },
      "source": [
        "acc.show_current_balance()"
      ],
      "execution_count": 11,
      "outputs": [
        {
          "output_type": "stream",
          "text": [
            "Your current account balance is 192639.5\n"
          ],
          "name": "stdout"
        }
      ]
    },
    {
      "cell_type": "markdown",
      "metadata": {
        "id": "-HtOzhtkgFAC"
      },
      "source": [
        "Write a python class for calculating the motion of a moving object by using the following equations."
      ]
    },
    {
      "cell_type": "code",
      "metadata": {
        "id": "PGs1ezGGgIGp"
      },
      "source": [
        "import math as m\n",
        "\n",
        "\n",
        "class Calculate:\n",
        "    \n",
        "    def formula1(self, u, a, t):\n",
        "        self.v = u + a*t\n",
        "        print(\"Ans for Formula 1:\", self.v)\n",
        "    \n",
        "        \n",
        "    def formula2(self, u, a, t):\n",
        "        self.s = u*t + 0.5*a*t**2\n",
        "        print(\"Ans for Formula 2:\", self.s)\n",
        "    \n",
        "    \n",
        "    def formula3(self, u, v, t):\n",
        "        self.s = 0.5*(u + v)*t\n",
        "        print(\"Ans for Formula 3:\", self.s)\n",
        "    \n",
        "    \n",
        "    def formula4(self, u, a, s):\n",
        "        self.v = m.sqrt(u**2 + 2*a*s)\n",
        "        print(\"Ans for Formula 4:\", self.v)"
      ],
      "execution_count": 12,
      "outputs": []
    },
    {
      "cell_type": "code",
      "metadata": {
        "id": "edL44WtogMGb"
      },
      "source": [
        "cal = Calculate()"
      ],
      "execution_count": 13,
      "outputs": []
    },
    {
      "cell_type": "code",
      "metadata": {
        "id": "8npG5qHagP0W",
        "colab": {
          "base_uri": "https://localhost:8080/"
        },
        "outputId": "0f461734-e06b-4cc7-e99c-173b4060e470"
      },
      "source": [
        "cal.formula1(10, 6, 5)"
      ],
      "execution_count": 14,
      "outputs": [
        {
          "output_type": "stream",
          "text": [
            "Ans for Formula 1: 40\n"
          ],
          "name": "stdout"
        }
      ]
    },
    {
      "cell_type": "code",
      "metadata": {
        "id": "0Wr5LfFMgQn-",
        "colab": {
          "base_uri": "https://localhost:8080/"
        },
        "outputId": "f47bcc8c-1ce3-49b7-859d-78692365945b"
      },
      "source": [
        "cal.formula2(4, 6, 2)"
      ],
      "execution_count": 15,
      "outputs": [
        {
          "output_type": "stream",
          "text": [
            "Ans for Formula 2: 20.0\n"
          ],
          "name": "stdout"
        }
      ]
    },
    {
      "cell_type": "code",
      "metadata": {
        "id": "w9j9WEPkgSs6",
        "colab": {
          "base_uri": "https://localhost:8080/"
        },
        "outputId": "811c98f7-8e2b-4f5b-f789-572f2f316d8a"
      },
      "source": [
        "cal.formula3(4, 6, 2)"
      ],
      "execution_count": 16,
      "outputs": [
        {
          "output_type": "stream",
          "text": [
            "Ans for Formula 3: 10.0\n"
          ],
          "name": "stdout"
        }
      ]
    },
    {
      "cell_type": "code",
      "metadata": {
        "id": "k96M7o7AgUTt",
        "colab": {
          "base_uri": "https://localhost:8080/"
        },
        "outputId": "4001a0d7-92d0-4142-fc61-a13c0b594d3d"
      },
      "source": [
        "cal.formula4(2, 3, 4)"
      ],
      "execution_count": 17,
      "outputs": [
        {
          "output_type": "stream",
          "text": [
            "Ans for Formula 4: 5.291502622129181\n"
          ],
          "name": "stdout"
        }
      ]
    }
  ]
}