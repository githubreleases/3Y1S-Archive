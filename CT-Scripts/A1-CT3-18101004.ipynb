{
  "nbformat": 4,
  "nbformat_minor": 0,
  "metadata": {
    "colab": {
      "name": "A1_CT_3_18101004.ipynb",
      "provenance": [],
      "authorship_tag": "ABX9TyMFACMKIBsURHDpdKp6GRzu",
      "include_colab_link": true
    },
    "kernelspec": {
      "name": "python3",
      "display_name": "Python 3"
    }
  },
  "cells": [
    {
      "cell_type": "markdown",
      "metadata": {
        "id": "view-in-github",
        "colab_type": "text"
      },
      "source": [
        "<a href=\"https://colab.research.google.com/github/sourovw/3Y1S-Codes/blob/master/CT-Scripts/A1-CT3-18101004.ipynb\" target=\"_parent\"><img src=\"https://colab.research.google.com/assets/colab-badge.svg\" alt=\"Open In Colab\"/></a>"
      ]
    },
    {
      "cell_type": "markdown",
      "metadata": {
        "id": "C0g8Op_Rt0ya"
      },
      "source": [
        "Sum the following series using for loop."
      ]
    },
    {
      "cell_type": "code",
      "metadata": {
        "id": "4W86axsVofmh",
        "colab": {
          "base_uri": "https://localhost:8080/"
        },
        "outputId": "5ad84e43-f723-4893-fd7f-0741962615c1"
      },
      "source": [
        "n = int(input(\"Value of n: \"))\n",
        "sum = 0\n",
        "\n",
        "for i in range(1, n + 1) :\n",
        "  sum = sum + pow(i, 2)\n",
        "  \n",
        "print(\"Sum:\", sum)"
      ],
      "execution_count": 1,
      "outputs": [
        {
          "output_type": "stream",
          "text": [
            "Value of n: 3\n",
            "Sum: 14\n"
          ],
          "name": "stdout"
        }
      ]
    },
    {
      "cell_type": "markdown",
      "metadata": {
        "id": "2TG8LLkExPqF"
      },
      "source": [
        "You have a group of 3 students. Each student has a name, ID and dept stored in a dictionary. And all 3 students are stored in a \"students\" dictionary. Now use a loop to iterate through the \"students\" dictionary and print only the \"name\" of all the students.\n"
      ]
    },
    {
      "cell_type": "code",
      "metadata": {
        "id": "r044zj_gxTYz"
      },
      "source": [
        "students = {\n",
        "    1 : {\n",
        "        \"name\" : \"Sourov\",\n",
        "         \"ID\" : \"18101004\",\n",
        "    },\n",
        "    2 : {\n",
        "        \"name\" : \"Rakin\",\n",
        "        \"ID\" : \"18101003\"\n",
        "    },\n",
        "    3 : {\n",
        "        \"name\" : \"Joy\",\n",
        "        \"ID\" : \"18101021\"\n",
        "    }\n",
        "}"
      ],
      "execution_count": 2,
      "outputs": []
    },
    {
      "cell_type": "code",
      "metadata": {
        "id": "1xbfz5FBz7jS",
        "colab": {
          "base_uri": "https://localhost:8080/"
        },
        "outputId": "c8d95cd7-a73c-4644-b8ca-14cb5fe1860e"
      },
      "source": [
        "for i in students :\n",
        "  print(students[i][\"name\"])"
      ],
      "execution_count": 3,
      "outputs": [
        {
          "output_type": "stream",
          "text": [
            "Sourov\n",
            "Rakin\n",
            "Joy\n"
          ],
          "name": "stdout"
        }
      ]
    }
  ]
}